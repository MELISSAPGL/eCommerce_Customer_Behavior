{
  "nbformat": 4,
  "nbformat_minor": 0,
  "metadata": {
    "colab": {
      "name": "suivi_utilisateurs.ipynb",
      "provenance": [],
      "collapsed_sections": []
    },
    "kernelspec": {
      "display_name": "Python 3",
      "name": "python3"
    }
  },
  "cells": [
    {
      "cell_type": "code",
      "metadata": {
        "id": "5z3-UUZMkXhA",
        "colab": {
          "base_uri": "https://localhost:8080/"
        },
        "outputId": "e23864e4-2b7f-4424-f3a1-a6e146593f10"
      },
      "source": [
        "#NE PAS MODIFIER CETTE CELL\n",
        "import pandas as pd\n",
        "\n",
        "from google.colab import drive\n",
        "\n",
        "drive.mount('/content/drive')\n",
        "\n"
      ],
      "execution_count": null,
      "outputs": [
        {
          "output_type": "stream",
          "text": [
            "Drive already mounted at /content/drive; to attempt to forcibly remount, call drive.mount(\"/content/drive\", force_remount=True).\n"
          ],
          "name": "stdout"
        }
      ]
    },
    {
      "cell_type": "code",
      "metadata": {
        "colab": {
          "base_uri": "https://localhost:8080/"
        },
        "id": "WXgcu-iXQxLj",
        "outputId": "a3e63191-56f4-43bb-d3ff-91029d52ad2f"
      },
      "source": [
        "#NE PAS MODIFIER CETTE CELL\r\n",
        "df = pd.read_csv('/content/drive/MyDrive/DATA/events.csv')\r\n",
        "print(df.head())"
      ],
      "execution_count": null,
      "outputs": [
        {
          "output_type": "stream",
          "text": [
            "       timestamp  visitorid event  itemid  transactionid\n",
            "0  1433221332117     257597  view  355908            NaN\n",
            "1  1433224214164     992329  view  248676            NaN\n",
            "2  1433221999827     111016  view  318965            NaN\n",
            "3  1433221955914     483717  view  253185            NaN\n",
            "4  1433221337106     951259  view  367447            NaN\n"
          ],
          "name": "stdout"
        }
      ]
    },
    {
      "cell_type": "code",
      "metadata": {
        "colab": {
          "base_uri": "https://localhost:8080/",
          "height": 206
        },
        "id": "eguY2yXuP7Q5",
        "outputId": "2d722f64-93d6-4f85-91be-fbf1fbb213c0"
      },
      "source": [
        "#NE PAS MODIFIER CETTE CELL\r\n",
        "import numpy as np\r\n",
        "import matplotlib.pyplot as plt\r\n",
        "import seaborn as sns\r\n",
        "\r\n",
        "from datetime import datetime\r\n",
        "df['date'] = df['timestamp'].apply(lambda x: datetime.fromtimestamp(x/1000))\r\n",
        "df['year'] = df['date'].dt.year\r\n",
        "df['month'] = df['date'].dt.month\r\n",
        "df['day'] = df['date'].dt.day\r\n",
        "df['dayofweek'] = df['date'].dt.dayofweek\r\n",
        "df['hour'] = df['date'].dt.hour\r\n",
        "df.head()"
      ],
      "execution_count": null,
      "outputs": [
        {
          "output_type": "execute_result",
          "data": {
            "text/html": [
              "<div>\n",
              "<style scoped>\n",
              "    .dataframe tbody tr th:only-of-type {\n",
              "        vertical-align: middle;\n",
              "    }\n",
              "\n",
              "    .dataframe tbody tr th {\n",
              "        vertical-align: top;\n",
              "    }\n",
              "\n",
              "    .dataframe thead th {\n",
              "        text-align: right;\n",
              "    }\n",
              "</style>\n",
              "<table border=\"1\" class=\"dataframe\">\n",
              "  <thead>\n",
              "    <tr style=\"text-align: right;\">\n",
              "      <th></th>\n",
              "      <th>timestamp</th>\n",
              "      <th>visitorid</th>\n",
              "      <th>event</th>\n",
              "      <th>itemid</th>\n",
              "      <th>transactionid</th>\n",
              "      <th>date</th>\n",
              "      <th>year</th>\n",
              "      <th>month</th>\n",
              "      <th>day</th>\n",
              "      <th>dayofweek</th>\n",
              "      <th>hour</th>\n",
              "    </tr>\n",
              "  </thead>\n",
              "  <tbody>\n",
              "    <tr>\n",
              "      <th>0</th>\n",
              "      <td>1433221332117</td>\n",
              "      <td>257597</td>\n",
              "      <td>view</td>\n",
              "      <td>355908</td>\n",
              "      <td>NaN</td>\n",
              "      <td>2015-06-02 05:02:12.117</td>\n",
              "      <td>2015</td>\n",
              "      <td>6</td>\n",
              "      <td>2</td>\n",
              "      <td>1</td>\n",
              "      <td>5</td>\n",
              "    </tr>\n",
              "    <tr>\n",
              "      <th>1</th>\n",
              "      <td>1433224214164</td>\n",
              "      <td>992329</td>\n",
              "      <td>view</td>\n",
              "      <td>248676</td>\n",
              "      <td>NaN</td>\n",
              "      <td>2015-06-02 05:50:14.164</td>\n",
              "      <td>2015</td>\n",
              "      <td>6</td>\n",
              "      <td>2</td>\n",
              "      <td>1</td>\n",
              "      <td>5</td>\n",
              "    </tr>\n",
              "    <tr>\n",
              "      <th>2</th>\n",
              "      <td>1433221999827</td>\n",
              "      <td>111016</td>\n",
              "      <td>view</td>\n",
              "      <td>318965</td>\n",
              "      <td>NaN</td>\n",
              "      <td>2015-06-02 05:13:19.827</td>\n",
              "      <td>2015</td>\n",
              "      <td>6</td>\n",
              "      <td>2</td>\n",
              "      <td>1</td>\n",
              "      <td>5</td>\n",
              "    </tr>\n",
              "    <tr>\n",
              "      <th>3</th>\n",
              "      <td>1433221955914</td>\n",
              "      <td>483717</td>\n",
              "      <td>view</td>\n",
              "      <td>253185</td>\n",
              "      <td>NaN</td>\n",
              "      <td>2015-06-02 05:12:35.914</td>\n",
              "      <td>2015</td>\n",
              "      <td>6</td>\n",
              "      <td>2</td>\n",
              "      <td>1</td>\n",
              "      <td>5</td>\n",
              "    </tr>\n",
              "    <tr>\n",
              "      <th>4</th>\n",
              "      <td>1433221337106</td>\n",
              "      <td>951259</td>\n",
              "      <td>view</td>\n",
              "      <td>367447</td>\n",
              "      <td>NaN</td>\n",
              "      <td>2015-06-02 05:02:17.106</td>\n",
              "      <td>2015</td>\n",
              "      <td>6</td>\n",
              "      <td>2</td>\n",
              "      <td>1</td>\n",
              "      <td>5</td>\n",
              "    </tr>\n",
              "  </tbody>\n",
              "</table>\n",
              "</div>"
            ],
            "text/plain": [
              "       timestamp  visitorid event  itemid  ...  month day  dayofweek  hour\n",
              "0  1433221332117     257597  view  355908  ...      6   2          1     5\n",
              "1  1433224214164     992329  view  248676  ...      6   2          1     5\n",
              "2  1433221999827     111016  view  318965  ...      6   2          1     5\n",
              "3  1433221955914     483717  view  253185  ...      6   2          1     5\n",
              "4  1433221337106     951259  view  367447  ...      6   2          1     5\n",
              "\n",
              "[5 rows x 11 columns]"
            ]
          },
          "metadata": {
            "tags": []
          },
          "execution_count": 4
        }
      ]
    },
    {
      "cell_type": "code",
      "metadata": {
        "colab": {
          "base_uri": "https://localhost:8080/",
          "height": 455
        },
        "id": "BErM_uF8kfgf",
        "outputId": "278572f2-784e-4ddb-d1aa-6955dd057cb7"
      },
      "source": [
        "## SOOYOUNG 09/01 ##\n",
        "# Nombre de visites\n",
        "stats = df.groupby('visitorid').agg({'visitorid':'count'})\n",
        "stats = stats.rename(columns={\"visitorid\": \"nb_visites\"})\n",
        "\n",
        "# Nombre de views par visitorid\n",
        "view = df.loc[df['event'] == 'view'].groupby('visitorid').agg({'visitorid':'count'})\n",
        "view = view.rename(columns={\"visitorid\": \"nb_views\"})\n",
        "\n",
        "# Nombre de addtocarts par visitorid\n",
        "addtocart = df.loc[df['event'] == 'addtocart'].groupby('visitorid').agg({'visitorid':'count'})\n",
        "addtocart = addtocart.rename(columns={\"visitorid\": \"nb_addtocarts\"})\n",
        "\n",
        "# Nombre de transactions par visitorid\n",
        "transaction = df.loc[df['event'] == 'transaction'].groupby('visitorid').agg({'visitorid':'count'})\n",
        "transaction = transaction.rename(columns={\"visitorid\": \"nb_transactions\"})\n",
        "\n",
        "# Merge les dataframes\n",
        "stats = pd.merge(stats, view, left_index=True, right_index=True, how='left')\n",
        "stats = pd.merge(stats, addtocart, left_index=True, right_index=True, how='left')\n",
        "stats = pd.merge(stats, transaction, left_index=True, right_index=True, how='left')\n",
        "\n",
        "# Nombre de visite par mois par visitorid\n",
        "for i in df['month'].value_counts().index:\n",
        "    month = df.loc[df['month'] == i].groupby('visitorid').agg({'visitorid':'count'})\n",
        "    month = month.rename(columns={\"visitorid\": \"nb_month_\"+str(i)})\n",
        "    stats = pd.merge(stats, month, left_index=True, right_index=True, how='left')\n",
        "    \n",
        "stats.sort_values('nb_transactions', ascending=False)\n"
      ],
      "execution_count": null,
      "outputs": [
        {
          "output_type": "execute_result",
          "data": {
            "text/html": [
              "<div>\n",
              "<style scoped>\n",
              "    .dataframe tbody tr th:only-of-type {\n",
              "        vertical-align: middle;\n",
              "    }\n",
              "\n",
              "    .dataframe tbody tr th {\n",
              "        vertical-align: top;\n",
              "    }\n",
              "\n",
              "    .dataframe thead th {\n",
              "        text-align: right;\n",
              "    }\n",
              "</style>\n",
              "<table border=\"1\" class=\"dataframe\">\n",
              "  <thead>\n",
              "    <tr style=\"text-align: right;\">\n",
              "      <th></th>\n",
              "      <th>nb_visites</th>\n",
              "      <th>nb_views</th>\n",
              "      <th>nb_addtocarts</th>\n",
              "      <th>nb_transactions</th>\n",
              "      <th>nb_month_7</th>\n",
              "      <th>nb_month_6</th>\n",
              "      <th>nb_month_5</th>\n",
              "      <th>nb_month_8</th>\n",
              "      <th>nb_month_9</th>\n",
              "    </tr>\n",
              "    <tr>\n",
              "      <th>visitorid</th>\n",
              "      <th></th>\n",
              "      <th></th>\n",
              "      <th></th>\n",
              "      <th></th>\n",
              "      <th></th>\n",
              "      <th></th>\n",
              "      <th></th>\n",
              "      <th></th>\n",
              "      <th></th>\n",
              "    </tr>\n",
              "  </thead>\n",
              "  <tbody>\n",
              "    <tr>\n",
              "      <th>1150086</th>\n",
              "      <td>7757</td>\n",
              "      <td>6479.0</td>\n",
              "      <td>719.0</td>\n",
              "      <td>559.0</td>\n",
              "      <td>3093.0</td>\n",
              "      <td>1855.0</td>\n",
              "      <td>NaN</td>\n",
              "      <td>1735.0</td>\n",
              "      <td>1074.0</td>\n",
              "    </tr>\n",
              "    <tr>\n",
              "      <th>152963</th>\n",
              "      <td>3024</td>\n",
              "      <td>2304.0</td>\n",
              "      <td>371.0</td>\n",
              "      <td>349.0</td>\n",
              "      <td>32.0</td>\n",
              "      <td>NaN</td>\n",
              "      <td>NaN</td>\n",
              "      <td>1832.0</td>\n",
              "      <td>1160.0</td>\n",
              "    </tr>\n",
              "    <tr>\n",
              "      <th>530559</th>\n",
              "      <td>4328</td>\n",
              "      <td>3623.0</td>\n",
              "      <td>419.0</td>\n",
              "      <td>286.0</td>\n",
              "      <td>1998.0</td>\n",
              "      <td>540.0</td>\n",
              "      <td>NaN</td>\n",
              "      <td>1345.0</td>\n",
              "      <td>445.0</td>\n",
              "    </tr>\n",
              "    <tr>\n",
              "      <th>684514</th>\n",
              "      <td>2246</td>\n",
              "      <td>1826.0</td>\n",
              "      <td>231.0</td>\n",
              "      <td>189.0</td>\n",
              "      <td>643.0</td>\n",
              "      <td>1602.0</td>\n",
              "      <td>1.0</td>\n",
              "      <td>NaN</td>\n",
              "      <td>NaN</td>\n",
              "    </tr>\n",
              "    <tr>\n",
              "      <th>861299</th>\n",
              "      <td>1991</td>\n",
              "      <td>1573.0</td>\n",
              "      <td>230.0</td>\n",
              "      <td>188.0</td>\n",
              "      <td>1028.0</td>\n",
              "      <td>NaN</td>\n",
              "      <td>NaN</td>\n",
              "      <td>963.0</td>\n",
              "      <td>NaN</td>\n",
              "    </tr>\n",
              "    <tr>\n",
              "      <th>...</th>\n",
              "      <td>...</td>\n",
              "      <td>...</td>\n",
              "      <td>...</td>\n",
              "      <td>...</td>\n",
              "      <td>...</td>\n",
              "      <td>...</td>\n",
              "      <td>...</td>\n",
              "      <td>...</td>\n",
              "      <td>...</td>\n",
              "    </tr>\n",
              "    <tr>\n",
              "      <th>1407575</th>\n",
              "      <td>1</td>\n",
              "      <td>1.0</td>\n",
              "      <td>NaN</td>\n",
              "      <td>NaN</td>\n",
              "      <td>NaN</td>\n",
              "      <td>1.0</td>\n",
              "      <td>NaN</td>\n",
              "      <td>NaN</td>\n",
              "      <td>NaN</td>\n",
              "    </tr>\n",
              "    <tr>\n",
              "      <th>1407576</th>\n",
              "      <td>1</td>\n",
              "      <td>1.0</td>\n",
              "      <td>NaN</td>\n",
              "      <td>NaN</td>\n",
              "      <td>NaN</td>\n",
              "      <td>1.0</td>\n",
              "      <td>NaN</td>\n",
              "      <td>NaN</td>\n",
              "      <td>NaN</td>\n",
              "    </tr>\n",
              "    <tr>\n",
              "      <th>1407577</th>\n",
              "      <td>1</td>\n",
              "      <td>1.0</td>\n",
              "      <td>NaN</td>\n",
              "      <td>NaN</td>\n",
              "      <td>NaN</td>\n",
              "      <td>NaN</td>\n",
              "      <td>1.0</td>\n",
              "      <td>NaN</td>\n",
              "      <td>NaN</td>\n",
              "    </tr>\n",
              "    <tr>\n",
              "      <th>1407578</th>\n",
              "      <td>1</td>\n",
              "      <td>1.0</td>\n",
              "      <td>NaN</td>\n",
              "      <td>NaN</td>\n",
              "      <td>NaN</td>\n",
              "      <td>NaN</td>\n",
              "      <td>1.0</td>\n",
              "      <td>NaN</td>\n",
              "      <td>NaN</td>\n",
              "    </tr>\n",
              "    <tr>\n",
              "      <th>1407579</th>\n",
              "      <td>1</td>\n",
              "      <td>1.0</td>\n",
              "      <td>NaN</td>\n",
              "      <td>NaN</td>\n",
              "      <td>NaN</td>\n",
              "      <td>1.0</td>\n",
              "      <td>NaN</td>\n",
              "      <td>NaN</td>\n",
              "      <td>NaN</td>\n",
              "    </tr>\n",
              "  </tbody>\n",
              "</table>\n",
              "<p>1407580 rows × 9 columns</p>\n",
              "</div>"
            ],
            "text/plain": [
              "           nb_visites  nb_views  ...  nb_month_8  nb_month_9\n",
              "visitorid                        ...                        \n",
              "1150086          7757    6479.0  ...      1735.0      1074.0\n",
              "152963           3024    2304.0  ...      1832.0      1160.0\n",
              "530559           4328    3623.0  ...      1345.0       445.0\n",
              "684514           2246    1826.0  ...         NaN         NaN\n",
              "861299           1991    1573.0  ...       963.0         NaN\n",
              "...               ...       ...  ...         ...         ...\n",
              "1407575             1       1.0  ...         NaN         NaN\n",
              "1407576             1       1.0  ...         NaN         NaN\n",
              "1407577             1       1.0  ...         NaN         NaN\n",
              "1407578             1       1.0  ...         NaN         NaN\n",
              "1407579             1       1.0  ...         NaN         NaN\n",
              "\n",
              "[1407580 rows x 9 columns]"
            ]
          },
          "metadata": {
            "tags": []
          },
          "execution_count": 5
        }
      ]
    },
    {
      "cell_type": "code",
      "metadata": {
        "colab": {
          "base_uri": "https://localhost:8080/",
          "height": 845
        },
        "id": "cEzW6nHvdktK",
        "outputId": "603455eb-6ce5-44c3-b5b8-71c1c1cfc9df"
      },
      "source": [
        "## SOOYOUNG 06/02 ##\n",
        "# Relations entre les variables\n",
        "plt.figure(figsize=(13,13))\n",
        "sns.heatmap(stats.corr(), annot=True, cmap='RdBu_r', center=0)"
      ],
      "execution_count": null,
      "outputs": [
        {
          "output_type": "execute_result",
          "data": {
            "text/plain": [
              "<matplotlib.axes._subplots.AxesSubplot at 0x7fba33dfbe10>"
            ]
          },
          "metadata": {
            "tags": []
          },
          "execution_count": 6
        },
        {
          "output_type": "display_data",
          "data": {
            "image/png": "[encoded data removed]",
            "text/plain": [
              "<Figure size 936x936 with 2 Axes>"
            ]
          },
          "metadata": {
            "tags": [],
            "needs_background": "light"
          }
        }
      ]
    },
    {
      "cell_type": "code",
      "metadata": {
        "id": "I3RbWGNDgSKj",
        "colab": {
          "base_uri": "https://localhost:8080/",
          "height": 743
        },
        "outputId": "f7dbf851-1701-40ce-b543-18be534a43cf"
      },
      "source": [
        "## SOOYOUNG 06/02 ##\n",
        "# Relations entre les variables\n",
        "# L'exécution prend environs 10minutes\n",
        "sns.pairplot(stats[['nb_views', 'nb_addtocarts', 'nb_transactions', 'nb_visites']])\n"
      ],
      "execution_count": 7,
      "outputs": [
        {
          "output_type": "execute_result",
          "data": {
            "text/plain": [
              "<seaborn.axisgrid.PairGrid at 0x7fba31ce6ef0>"
            ]
          },
          "metadata": {
            "tags": []
          },
          "execution_count": 0
        },
        {
          "output_type": "display_data",
          "data": {
            "image/png": "[encoded data removed]",
            "text/plain": [
              "<Figure size 720x720 with 20 Axes>"
            ]
          },
          "metadata": {
            "tags": [],
            "needs_background": "light"
          }
        }
      ]
    },
    {
      "cell_type": "code",
      "metadata": {
        "colab": {
          "base_uri": "https://localhost:8080/",
          "height": 110
        },
        "id": "y_oRMVEPK-zK",
        "outputId": "9fc46025-0686-45a3-c4da-41cddad0633a"
      },
      "source": [
        "## MELISSA 09/01 ##\r\n",
        "# Relation entre la variable continue transactionid et la variable catégorielle event\r\n",
        "# Pour étudier ce type de corrélation on a recours à l’analyse de la variance (ANOVA) à un facteur\r\n",
        "import statsmodels.api\r\n",
        "result = statsmodels.formula.api.ols('transactionid ~ event', data = df).fit()\r\n",
        "table_eventXtransactionid = statsmodels.api.stats.anova_lm(result)\r\n",
        "table_eventXtransactionid\r\n",
        "\r\n",
        "#df renesigne le degré de liberté de la statistique de test Fqui suit une loi de Fisher; PR(>F) renseigne la valeur de la p-valeur du test.\r\n",
        "# Celle-ci est supérieure à 50%. On ne peut donc pas conclure à une relation d'influence entre la var. event et la var. transactionid "
      ],
      "execution_count": null,
      "outputs": [
        {
          "output_type": "execute_result",
          "data": {
            "text/html": [
              "<div>\n",
              "<style scoped>\n",
              "    .dataframe tbody tr th:only-of-type {\n",
              "        vertical-align: middle;\n",
              "    }\n",
              "\n",
              "    .dataframe tbody tr th {\n",
              "        vertical-align: top;\n",
              "    }\n",
              "\n",
              "    .dataframe thead th {\n",
              "        text-align: right;\n",
              "    }\n",
              "</style>\n",
              "<table border=\"1\" class=\"dataframe\">\n",
              "  <thead>\n",
              "    <tr style=\"text-align: right;\">\n",
              "      <th></th>\n",
              "      <th>df</th>\n",
              "      <th>sum_sq</th>\n",
              "      <th>mean_sq</th>\n",
              "      <th>F</th>\n",
              "      <th>PR(&gt;F)</th>\n",
              "    </tr>\n",
              "  </thead>\n",
              "  <tbody>\n",
              "    <tr>\n",
              "      <th>event</th>\n",
              "      <td>2.0</td>\n",
              "      <td>3.484181e+07</td>\n",
              "      <td>1.742090e+07</td>\n",
              "      <td>0.669795</td>\n",
              "      <td>0.511824</td>\n",
              "    </tr>\n",
              "    <tr>\n",
              "      <th>Residual</th>\n",
              "      <td>22455.0</td>\n",
              "      <td>5.840387e+11</td>\n",
              "      <td>2.600929e+07</td>\n",
              "      <td>NaN</td>\n",
              "      <td>NaN</td>\n",
              "    </tr>\n",
              "  </tbody>\n",
              "</table>\n",
              "</div>"
            ],
            "text/plain": [
              "               df        sum_sq       mean_sq         F    PR(>F)\n",
              "event         2.0  3.484181e+07  1.742090e+07  0.669795  0.511824\n",
              "Residual  22455.0  5.840387e+11  2.600929e+07       NaN       NaN"
            ]
          },
          "metadata": {
            "tags": []
          },
          "execution_count": 15
        }
      ]
    },
    {
      "cell_type": "code",
      "metadata": {
        "colab": {
          "base_uri": "https://localhost:8080/",
          "height": 110
        },
        "id": "6z2FbGgCOdbD",
        "outputId": "39a39937-8424-4971-b667-54f2e6aa6e89"
      },
      "source": [
        "# Relation entre la variable continue itemid et la variable catégorielle event\r\n",
        "# Pour étudier ce type de corrélation on a recours à l’analyse de la variance (ANOVA) à un facteur\r\n",
        "import statsmodels.api\r\n",
        "result = statsmodels.formula.api.ols('itemid ~ event', data = df).fit()\r\n",
        "table_eventXitemid = statsmodels.api.stats.anova_lm(result)\r\n",
        "table_eventXitemid\r\n",
        "\r\n",
        "#df renesigne le degré de liberté de la statistique de test Fqui suit une loi de Fisher; PR(>F) renseigne la valeur de la p-valeur du test.\r\n",
        "# Cette fois-ci, la p-value (PR(>F)) est inférieur à 5% donc on rejette l'hypothèse selon laquelle event n'influe pas sur itemid."
      ],
      "execution_count": null,
      "outputs": [
        {
          "output_type": "execute_result",
          "data": {
            "text/html": [
              "<div>\n",
              "<style scoped>\n",
              "    .dataframe tbody tr th:only-of-type {\n",
              "        vertical-align: middle;\n",
              "    }\n",
              "\n",
              "    .dataframe tbody tr th {\n",
              "        vertical-align: top;\n",
              "    }\n",
              "\n",
              "    .dataframe thead th {\n",
              "        text-align: right;\n",
              "    }\n",
              "</style>\n",
              "<table border=\"1\" class=\"dataframe\">\n",
              "  <thead>\n",
              "    <tr style=\"text-align: right;\">\n",
              "      <th></th>\n",
              "      <th>df</th>\n",
              "      <th>sum_sq</th>\n",
              "      <th>mean_sq</th>\n",
              "      <th>F</th>\n",
              "      <th>PR(&gt;F)</th>\n",
              "    </tr>\n",
              "  </thead>\n",
              "  <tbody>\n",
              "    <tr>\n",
              "      <th>event</th>\n",
              "      <td>2.0</td>\n",
              "      <td>4.217666e+11</td>\n",
              "      <td>2.108833e+11</td>\n",
              "      <td>11.710356</td>\n",
              "      <td>0.000008</td>\n",
              "    </tr>\n",
              "    <tr>\n",
              "      <th>Residual</th>\n",
              "      <td>2756098.0</td>\n",
              "      <td>4.963256e+16</td>\n",
              "      <td>1.800827e+10</td>\n",
              "      <td>NaN</td>\n",
              "      <td>NaN</td>\n",
              "    </tr>\n",
              "  </tbody>\n",
              "</table>\n",
              "</div>"
            ],
            "text/plain": [
              "                 df        sum_sq       mean_sq          F    PR(>F)\n",
              "event           2.0  4.217666e+11  2.108833e+11  11.710356  0.000008\n",
              "Residual  2756098.0  4.963256e+16  1.800827e+10        NaN       NaN"
            ]
          },
          "metadata": {
            "tags": []
          },
          "execution_count": 16
        }
      ]
    },
    {
      "cell_type": "code",
      "metadata": {
        "colab": {
          "base_uri": "https://localhost:8080/",
          "height": 357
        },
        "id": "CDK3hjT6RW43",
        "outputId": "6f45bd0d-c46c-4ce5-97cd-60826921969b"
      },
      "source": [
        " #Si on regarde maintenant les relations par type d'event : nb_vistites, nb_view et ne_addtocart (variable continue) par la variable transation\r\n",
        "#ata = df.drop(['nb_visites', 'nb_views', 'nb_addtocarts', 'nb_transactions'], axis=0)\r\n",
        "\r\n",
        "import seaborn as sns\r\n",
        "\r\n",
        "f, ax = df.subplots(figsize=(10, 8))\r\n",
        "corr = dataframe.corr()\r\n",
        "sns.heatmap(corr, mask=np.zeros_like(corr, dtype=np.bool), cmap=sns.diverging_palette(220, 10, as_cmap=True),\r\n",
        "            square=True, ax=ax)"
      ],
      "execution_count": null,
      "outputs": [
        {
          "output_type": "error",
          "ename": "AttributeError",
          "evalue": "ignored",
          "traceback": [
            "\u001b[0;31m---------------------------------------------------------------------------\u001b[0m",
            "\u001b[0;31mAttributeError\u001b[0m                            Traceback (most recent call last)",
            "\u001b[0;32m<ipython-input-32-c9e2d3d2a42a>\u001b[0m in \u001b[0;36m<module>\u001b[0;34m()\u001b[0m\n\u001b[1;32m      4\u001b[0m \u001b[0;32mimport\u001b[0m \u001b[0mseaborn\u001b[0m \u001b[0;32mas\u001b[0m \u001b[0msns\u001b[0m\u001b[0;34m\u001b[0m\u001b[0;34m\u001b[0m\u001b[0m\n\u001b[1;32m      5\u001b[0m \u001b[0;34m\u001b[0m\u001b[0m\n\u001b[0;32m----> 6\u001b[0;31m \u001b[0mf\u001b[0m\u001b[0;34m,\u001b[0m \u001b[0max\u001b[0m \u001b[0;34m=\u001b[0m \u001b[0mdf\u001b[0m\u001b[0;34m.\u001b[0m\u001b[0msubplots\u001b[0m\u001b[0;34m(\u001b[0m\u001b[0mfigsize\u001b[0m\u001b[0;34m=\u001b[0m\u001b[0;34m(\u001b[0m\u001b[0;36m10\u001b[0m\u001b[0;34m,\u001b[0m \u001b[0;36m8\u001b[0m\u001b[0;34m)\u001b[0m\u001b[0;34m)\u001b[0m\u001b[0;34m\u001b[0m\u001b[0;34m\u001b[0m\u001b[0m\n\u001b[0m\u001b[1;32m      7\u001b[0m \u001b[0mcorr\u001b[0m \u001b[0;34m=\u001b[0m \u001b[0mdataframe\u001b[0m\u001b[0;34m.\u001b[0m\u001b[0mcorr\u001b[0m\u001b[0;34m(\u001b[0m\u001b[0;34m)\u001b[0m\u001b[0;34m\u001b[0m\u001b[0;34m\u001b[0m\u001b[0m\n\u001b[1;32m      8\u001b[0m sns.heatmap(corr, mask=np.zeros_like(corr, dtype=np.bool), cmap=sns.diverging_palette(220, 10, as_cmap=True),\n",
            "\u001b[0;32m/usr/local/lib/python3.6/dist-packages/pandas/core/generic.py\u001b[0m in \u001b[0;36m__getattr__\u001b[0;34m(self, name)\u001b[0m\n\u001b[1;32m   5139\u001b[0m             \u001b[0;32mif\u001b[0m \u001b[0mself\u001b[0m\u001b[0;34m.\u001b[0m\u001b[0m_info_axis\u001b[0m\u001b[0;34m.\u001b[0m\u001b[0m_can_hold_identifiers_and_holds_name\u001b[0m\u001b[0;34m(\u001b[0m\u001b[0mname\u001b[0m\u001b[0;34m)\u001b[0m\u001b[0;34m:\u001b[0m\u001b[0;34m\u001b[0m\u001b[0;34m\u001b[0m\u001b[0m\n\u001b[1;32m   5140\u001b[0m                 \u001b[0;32mreturn\u001b[0m \u001b[0mself\u001b[0m\u001b[0;34m[\u001b[0m\u001b[0mname\u001b[0m\u001b[0;34m]\u001b[0m\u001b[0;34m\u001b[0m\u001b[0;34m\u001b[0m\u001b[0m\n\u001b[0;32m-> 5141\u001b[0;31m             \u001b[0;32mreturn\u001b[0m \u001b[0mobject\u001b[0m\u001b[0;34m.\u001b[0m\u001b[0m__getattribute__\u001b[0m\u001b[0;34m(\u001b[0m\u001b[0mself\u001b[0m\u001b[0;34m,\u001b[0m \u001b[0mname\u001b[0m\u001b[0;34m)\u001b[0m\u001b[0;34m\u001b[0m\u001b[0;34m\u001b[0m\u001b[0m\n\u001b[0m\u001b[1;32m   5142\u001b[0m \u001b[0;34m\u001b[0m\u001b[0m\n\u001b[1;32m   5143\u001b[0m     \u001b[0;32mdef\u001b[0m \u001b[0m__setattr__\u001b[0m\u001b[0;34m(\u001b[0m\u001b[0mself\u001b[0m\u001b[0;34m,\u001b[0m \u001b[0mname\u001b[0m\u001b[0;34m:\u001b[0m \u001b[0mstr\u001b[0m\u001b[0;34m,\u001b[0m \u001b[0mvalue\u001b[0m\u001b[0;34m)\u001b[0m \u001b[0;34m->\u001b[0m \u001b[0;32mNone\u001b[0m\u001b[0;34m:\u001b[0m\u001b[0;34m\u001b[0m\u001b[0;34m\u001b[0m\u001b[0m\n",
            "\u001b[0;31mAttributeError\u001b[0m: 'DataFrame' object has no attribute 'subplots'"
          ]
        }
      ]
    },
    {
      "cell_type": "code",
      "metadata": {
        "colab": {
          "base_uri": "https://localhost:8080/",
          "height": 406
        },
        "id": "yxtFFpgWkjlE",
        "outputId": "a05f1ea1-a85e-4811-8e04-6b1eb0d268ba"
      },
      "source": [
        "## SOOYOUNG 09/01 ##\n",
        "# Relation entre nombre de addtocarts et nombre de transactions\n",
        "g = sns.relplot(x=\"nb_addtocarts\", \n",
        "                y=\"nb_transactions\",\n",
        "                data=stats,\n",
        "                kind=\"line\",\n",
        "                markers=True,\n",
        "                dashes=False)\n",
        "g.fig.suptitle(\"Carts and Transactions\",y=1.03)\n",
        "plt.show()"
      ],
      "execution_count": null,
      "outputs": [
        {
          "output_type": "display_data",
          "data": {
            "image/png": "[encoded data removed]",
            "text/plain": [
              "<Figure size 360x360 with 1 Axes>"
            ]
          },
          "metadata": {
            "tags": [],
            "needs_background": "light"
          }
        }
      ]
    },
    {
      "cell_type": "code",
      "metadata": {
        "colab": {
          "base_uri": "https://localhost:8080/",
          "height": 111
        },
        "id": "0kpUCUIXc7Gn",
        "outputId": "694c5c9f-68fb-4975-f877-621ab0248b8e"
      },
      "source": [
        "## SOOYOUNG 06/02 ##\n",
        "# Calculate Pearson's correlation\n",
        "from scipy.stats import pearsonr\n",
        "stats = stats.fillna(0)\n",
        "pd.DataFrame(pearsonr(stats['nb_addtocarts'], stats['nb_transactions']), index=['pearson_coeff', 'p-value'], columns=['Relation entre nb_addtocarts et nb_transactions'])"
      ],
      "execution_count": null,
      "outputs": [
        {
          "output_type": "execute_result",
          "data": {
            "text/html": [
              "<div>\n",
              "<style scoped>\n",
              "    .dataframe tbody tr th:only-of-type {\n",
              "        vertical-align: middle;\n",
              "    }\n",
              "\n",
              "    .dataframe tbody tr th {\n",
              "        vertical-align: top;\n",
              "    }\n",
              "\n",
              "    .dataframe thead th {\n",
              "        text-align: right;\n",
              "    }\n",
              "</style>\n",
              "<table border=\"1\" class=\"dataframe\">\n",
              "  <thead>\n",
              "    <tr style=\"text-align: right;\">\n",
              "      <th></th>\n",
              "      <th>Relation entre nb_addtocarts et nb_transactions</th>\n",
              "    </tr>\n",
              "  </thead>\n",
              "  <tbody>\n",
              "    <tr>\n",
              "      <th>pearson_coeff</th>\n",
              "      <td>0.903854</td>\n",
              "    </tr>\n",
              "    <tr>\n",
              "      <th>p-value</th>\n",
              "      <td>0.000000</td>\n",
              "    </tr>\n",
              "  </tbody>\n",
              "</table>\n",
              "</div>"
            ],
            "text/plain": [
              "               Relation entre nb_addtocarts et nb_transactions\n",
              "pearson_coeff                                         0.903854\n",
              "p-value                                               0.000000"
            ]
          },
          "metadata": {
            "tags": []
          },
          "execution_count": 17
        }
      ]
    },
    {
      "cell_type": "code",
      "metadata": {
        "colab": {
          "base_uri": "https://localhost:8080/",
          "height": 440
        },
        "id": "2WKozY1UknHy",
        "outputId": "f6c6fe98-d063-45ad-db21-15d55ecca6a1"
      },
      "source": [
        "## SOOYOUNG 09/01 ##\n",
        "# Relation entre nombre de views et nombres de transactions\n",
        "g = sns.lmplot(x='nb_views', y='nb_transactions', lowess=True, data=stats)\n",
        "g.fig.suptitle(\"Views and Transactions\",y=1.03)\n",
        "plt.show()"
      ],
      "execution_count": null,
      "outputs": [
        {
          "output_type": "stream",
          "text": [
            "/usr/local/lib/python3.6/dist-packages/statsmodels/tools/_testing.py:19: FutureWarning: pandas.util.testing is deprecated. Use the functions in the public API at pandas.testing instead.\n",
            "  import pandas.util.testing as tm\n"
          ],
          "name": "stderr"
        },
        {
          "output_type": "display_data",
          "data": {
            "image/png": "[encoded data removed]",
            "text/plain": [
              "<Figure size 360x360 with 1 Axes>"
            ]
          },
          "metadata": {
            "tags": [],
            "needs_background": "light"
          }
        }
      ]
    },
    {
      "cell_type": "code",
      "metadata": {
        "colab": {
          "base_uri": "https://localhost:8080/",
          "height": 297
        },
        "id": "-4z0aR7IkpSk",
        "outputId": "3b1032ee-9657-4140-8119-03a12f9d4bf0"
      },
      "source": [
        "## SOOYOUNG 09/01 ##\n",
        "pd.set_option('float_format', '{:f}'.format)\n",
        "stats.describe()"
      ],
      "execution_count": null,
      "outputs": [
        {
          "output_type": "execute_result",
          "data": {
            "text/html": [
              "<div>\n",
              "<style scoped>\n",
              "    .dataframe tbody tr th:only-of-type {\n",
              "        vertical-align: middle;\n",
              "    }\n",
              "\n",
              "    .dataframe tbody tr th {\n",
              "        vertical-align: top;\n",
              "    }\n",
              "\n",
              "    .dataframe thead th {\n",
              "        text-align: right;\n",
              "    }\n",
              "</style>\n",
              "<table border=\"1\" class=\"dataframe\">\n",
              "  <thead>\n",
              "    <tr style=\"text-align: right;\">\n",
              "      <th></th>\n",
              "      <th>nb_visites</th>\n",
              "      <th>nb_views</th>\n",
              "      <th>nb_addtocarts</th>\n",
              "      <th>nb_transactions</th>\n",
              "      <th>nb_month_7</th>\n",
              "      <th>nb_month_6</th>\n",
              "      <th>nb_month_5</th>\n",
              "      <th>nb_month_8</th>\n",
              "      <th>nb_month_9</th>\n",
              "    </tr>\n",
              "  </thead>\n",
              "  <tbody>\n",
              "    <tr>\n",
              "      <th>count</th>\n",
              "      <td>1407580.000000</td>\n",
              "      <td>1404179.000000</td>\n",
              "      <td>37722.000000</td>\n",
              "      <td>11719.000000</td>\n",
              "      <td>377199.000000</td>\n",
              "      <td>313832.000000</td>\n",
              "      <td>307574.000000</td>\n",
              "      <td>311128.000000</td>\n",
              "      <td>173728.000000</td>\n",
              "    </tr>\n",
              "    <tr>\n",
              "      <th>mean</th>\n",
              "      <td>1.958042</td>\n",
              "      <td>1.897416</td>\n",
              "      <td>1.837973</td>\n",
              "      <td>1.916290</td>\n",
              "      <td>1.850440</td>\n",
              "      <td>1.944967</td>\n",
              "      <td>1.920357</td>\n",
              "      <td>1.778567</td>\n",
              "      <td>1.748193</td>\n",
              "    </tr>\n",
              "    <tr>\n",
              "      <th>std</th>\n",
              "      <td>12.580492</td>\n",
              "      <td>11.006607</td>\n",
              "      <td>6.882063</td>\n",
              "      <td>8.850529</td>\n",
              "      <td>9.603107</td>\n",
              "      <td>8.503020</td>\n",
              "      <td>8.234851</td>\n",
              "      <td>7.979438</td>\n",
              "      <td>7.214078</td>\n",
              "    </tr>\n",
              "    <tr>\n",
              "      <th>min</th>\n",
              "      <td>1.000000</td>\n",
              "      <td>1.000000</td>\n",
              "      <td>1.000000</td>\n",
              "      <td>1.000000</td>\n",
              "      <td>1.000000</td>\n",
              "      <td>1.000000</td>\n",
              "      <td>1.000000</td>\n",
              "      <td>1.000000</td>\n",
              "      <td>1.000000</td>\n",
              "    </tr>\n",
              "    <tr>\n",
              "      <th>25%</th>\n",
              "      <td>1.000000</td>\n",
              "      <td>1.000000</td>\n",
              "      <td>1.000000</td>\n",
              "      <td>1.000000</td>\n",
              "      <td>1.000000</td>\n",
              "      <td>1.000000</td>\n",
              "      <td>1.000000</td>\n",
              "      <td>1.000000</td>\n",
              "      <td>1.000000</td>\n",
              "    </tr>\n",
              "    <tr>\n",
              "      <th>50%</th>\n",
              "      <td>1.000000</td>\n",
              "      <td>1.000000</td>\n",
              "      <td>1.000000</td>\n",
              "      <td>1.000000</td>\n",
              "      <td>1.000000</td>\n",
              "      <td>1.000000</td>\n",
              "      <td>1.000000</td>\n",
              "      <td>1.000000</td>\n",
              "      <td>1.000000</td>\n",
              "    </tr>\n",
              "    <tr>\n",
              "      <th>75%</th>\n",
              "      <td>2.000000</td>\n",
              "      <td>2.000000</td>\n",
              "      <td>1.000000</td>\n",
              "      <td>1.000000</td>\n",
              "      <td>2.000000</td>\n",
              "      <td>2.000000</td>\n",
              "      <td>2.000000</td>\n",
              "      <td>2.000000</td>\n",
              "      <td>2.000000</td>\n",
              "    </tr>\n",
              "    <tr>\n",
              "      <th>max</th>\n",
              "      <td>7757.000000</td>\n",
              "      <td>6479.000000</td>\n",
              "      <td>719.000000</td>\n",
              "      <td>559.000000</td>\n",
              "      <td>3093.000000</td>\n",
              "      <td>1855.000000</td>\n",
              "      <td>1987.000000</td>\n",
              "      <td>1832.000000</td>\n",
              "      <td>1200.000000</td>\n",
              "    </tr>\n",
              "  </tbody>\n",
              "</table>\n",
              "</div>"
            ],
            "text/plain": [
              "          nb_visites       nb_views  ...    nb_month_8    nb_month_9\n",
              "count 1407580.000000 1404179.000000  ... 311128.000000 173728.000000\n",
              "mean        1.958042       1.897416  ...      1.778567      1.748193\n",
              "std        12.580492      11.006607  ...      7.979438      7.214078\n",
              "min         1.000000       1.000000  ...      1.000000      1.000000\n",
              "25%         1.000000       1.000000  ...      1.000000      1.000000\n",
              "50%         1.000000       1.000000  ...      1.000000      1.000000\n",
              "75%         2.000000       2.000000  ...      2.000000      2.000000\n",
              "max      7757.000000    6479.000000  ...   1832.000000   1200.000000\n",
              "\n",
              "[8 rows x 9 columns]"
            ]
          },
          "metadata": {
            "tags": []
          },
          "execution_count": 7
        }
      ]
    },
    {
      "cell_type": "code",
      "metadata": {
        "colab": {
          "base_uri": "https://localhost:8080/",
          "height": 235
        },
        "id": "3WWLDMovkteg",
        "outputId": "c0ff9222-65ad-4a68-e0d5-925b355e1b21"
      },
      "source": [
        "## SOOYOUNG 09/01 ##\n",
        "# VISUALISATION DU DATA\n",
        "sns.set_theme()\n",
        "sns.set_style('whitegrid')\n",
        "sns.set_context('paper')\n",
        "sns.set_palette(['#39A7D0','#36ADA4'])\n",
        "\n",
        "# Visiteurs par date\n",
        "plt.figure(figsize = (14,14))\n",
        "\n",
        "# Visiteurs par mois\n",
        "plt.subplot(221)\n",
        "sns.countplot(x='month', data=df)\n",
        "plt.title('Nombre de visiteurs par mois')\n",
        "plt.grid()\n",
        "\n",
        "# Visiteurs par jour\n",
        "plt.subplot(222)\n",
        "sns.countplot(x='day', data=df)\n",
        "plt.title('Nombre de visiteurs par jour')\n",
        "plt.grid()\n",
        "\n",
        "# Visiteurs par jour de semaine\n",
        "plt.subplot(223)\n",
        "sns.countplot(x='dayofweek', data=df)\n",
        "plt.title('Nombre de visiteurs par jour de semaine')\n",
        "plt.grid()\n",
        "\n",
        "# Visiteurs par heure\n",
        "plt.subplot(224)\n",
        "sns.countplot(x='hour', data=df)\n",
        "plt.title('Nombre de visiteurs par heure')\n",
        "plt.grid()"
      ],
      "execution_count": null,
      "outputs": [
        {
          "output_type": "error",
          "ename": "NameError",
          "evalue": "ignored",
          "traceback": [
            "\u001b[0;31m---------------------------------------------------------------------------\u001b[0m",
            "\u001b[0;31mNameError\u001b[0m                                 Traceback (most recent call last)",
            "\u001b[0;32m<ipython-input-2-6d411a07c965>\u001b[0m in \u001b[0;36m<module>\u001b[0;34m()\u001b[0m\n\u001b[1;32m      1\u001b[0m \u001b[0;31m## SOOYOUNG 09/01 ##\u001b[0m\u001b[0;34m\u001b[0m\u001b[0;34m\u001b[0m\u001b[0;34m\u001b[0m\u001b[0m\n\u001b[1;32m      2\u001b[0m \u001b[0;31m# VISUALISATION DU DATA\u001b[0m\u001b[0;34m\u001b[0m\u001b[0;34m\u001b[0m\u001b[0;34m\u001b[0m\u001b[0m\n\u001b[0;32m----> 3\u001b[0;31m \u001b[0msns\u001b[0m\u001b[0;34m.\u001b[0m\u001b[0mset_theme\u001b[0m\u001b[0;34m(\u001b[0m\u001b[0;34m)\u001b[0m\u001b[0;34m\u001b[0m\u001b[0;34m\u001b[0m\u001b[0m\n\u001b[0m\u001b[1;32m      4\u001b[0m \u001b[0msns\u001b[0m\u001b[0;34m.\u001b[0m\u001b[0mset_style\u001b[0m\u001b[0;34m(\u001b[0m\u001b[0;34m'whitegrid'\u001b[0m\u001b[0;34m)\u001b[0m\u001b[0;34m\u001b[0m\u001b[0;34m\u001b[0m\u001b[0m\n\u001b[1;32m      5\u001b[0m \u001b[0msns\u001b[0m\u001b[0;34m.\u001b[0m\u001b[0mset_context\u001b[0m\u001b[0;34m(\u001b[0m\u001b[0;34m'paper'\u001b[0m\u001b[0;34m)\u001b[0m\u001b[0;34m\u001b[0m\u001b[0;34m\u001b[0m\u001b[0m\n",
            "\u001b[0;31mNameError\u001b[0m: name 'sns' is not defined"
          ]
        }
      ]
    },
    {
      "cell_type": "code",
      "metadata": {
        "id": "at3L1OTak2Jj",
        "colab": {
          "base_uri": "https://localhost:8080/",
          "height": 455
        },
        "outputId": "14b92d6e-096b-4ba6-c7ed-5c1c4108a7d3"
      },
      "source": [
        "## SOOYOUNG 09/01 ##\n",
        "# Nombre de visites par itemsid\n",
        "items = df.groupby('itemid').agg({'visitorid':'count'})\n",
        "items = items.rename(columns={\"visitorid\": \"nb_visites\"})\n",
        "\n",
        "# Nombre de views par itemid\n",
        "items_view = df.loc[df['event'] == 'view'].groupby('itemid').agg({'itemid':'count'}) #df.loc[df['itemid'] == 9]\n",
        "items_view = items_view.rename(columns={\"itemid\": \"nb_views\"})\n",
        "\n",
        "# Nombre de addtocarts par itemid\n",
        "items_addtocart = df.loc[df['event'] == 'addtocart'].groupby('itemid').agg({'itemid':'count'})\n",
        "items_addtocart = items_addtocart.rename(columns={\"itemid\": \"nb_addtocarts\"})\n",
        "\n",
        "# Nombre de transactions par itemid\n",
        "items_transaction = df.loc[df['event'] == 'transaction'].groupby('itemid').agg({'itemid':'count'})\n",
        "items_transaction = items_transaction.rename(columns={\"itemid\": \"nb_transactions\"})\n",
        "\n",
        "# Merge dataframes\n",
        "items = pd.merge(items, items_view, left_index=True, right_index=True, how='left')\n",
        "items = pd.merge(items, items_addtocart, left_index=True, right_index=True, how='left')\n",
        "items = pd.merge(items, items_transaction, left_index=True, right_index=True, how='left')\n",
        "items\n",
        "\n",
        "# idées : \n",
        "# Matrix par items : produit star\n",
        "# Matrix par visitor : buyer star\n",
        "# Visitorid sur la matrix de items\n",
        "# Visitorid par timestamp : est ce qu'il est venu tous les jours, tous les 2 jours ? fréquences combien de temps il a mit pour acheter un produit ?\n"
      ],
      "execution_count": null,
      "outputs": [
        {
          "output_type": "execute_result",
          "data": {
            "text/html": [
              "<div>\n",
              "<style scoped>\n",
              "    .dataframe tbody tr th:only-of-type {\n",
              "        vertical-align: middle;\n",
              "    }\n",
              "\n",
              "    .dataframe tbody tr th {\n",
              "        vertical-align: top;\n",
              "    }\n",
              "\n",
              "    .dataframe thead th {\n",
              "        text-align: right;\n",
              "    }\n",
              "</style>\n",
              "<table border=\"1\" class=\"dataframe\">\n",
              "  <thead>\n",
              "    <tr style=\"text-align: right;\">\n",
              "      <th></th>\n",
              "      <th>nb_visites</th>\n",
              "      <th>nb_views</th>\n",
              "      <th>nb_addtocarts</th>\n",
              "      <th>nb_transactions</th>\n",
              "    </tr>\n",
              "    <tr>\n",
              "      <th>itemid</th>\n",
              "      <th></th>\n",
              "      <th></th>\n",
              "      <th></th>\n",
              "      <th></th>\n",
              "    </tr>\n",
              "  </thead>\n",
              "  <tbody>\n",
              "    <tr>\n",
              "      <th>3</th>\n",
              "      <td>2</td>\n",
              "      <td>2.0</td>\n",
              "      <td>NaN</td>\n",
              "      <td>NaN</td>\n",
              "    </tr>\n",
              "    <tr>\n",
              "      <th>4</th>\n",
              "      <td>3</td>\n",
              "      <td>3.0</td>\n",
              "      <td>NaN</td>\n",
              "      <td>NaN</td>\n",
              "    </tr>\n",
              "    <tr>\n",
              "      <th>6</th>\n",
              "      <td>29</td>\n",
              "      <td>29.0</td>\n",
              "      <td>NaN</td>\n",
              "      <td>NaN</td>\n",
              "    </tr>\n",
              "    <tr>\n",
              "      <th>9</th>\n",
              "      <td>2</td>\n",
              "      <td>2.0</td>\n",
              "      <td>NaN</td>\n",
              "      <td>NaN</td>\n",
              "    </tr>\n",
              "    <tr>\n",
              "      <th>15</th>\n",
              "      <td>22</td>\n",
              "      <td>18.0</td>\n",
              "      <td>3.0</td>\n",
              "      <td>1.0</td>\n",
              "    </tr>\n",
              "    <tr>\n",
              "      <th>...</th>\n",
              "      <td>...</td>\n",
              "      <td>...</td>\n",
              "      <td>...</td>\n",
              "      <td>...</td>\n",
              "    </tr>\n",
              "    <tr>\n",
              "      <th>466861</th>\n",
              "      <td>95</td>\n",
              "      <td>89.0</td>\n",
              "      <td>5.0</td>\n",
              "      <td>1.0</td>\n",
              "    </tr>\n",
              "    <tr>\n",
              "      <th>466862</th>\n",
              "      <td>4</td>\n",
              "      <td>4.0</td>\n",
              "      <td>NaN</td>\n",
              "      <td>NaN</td>\n",
              "    </tr>\n",
              "    <tr>\n",
              "      <th>466863</th>\n",
              "      <td>1</td>\n",
              "      <td>1.0</td>\n",
              "      <td>NaN</td>\n",
              "      <td>NaN</td>\n",
              "    </tr>\n",
              "    <tr>\n",
              "      <th>466864</th>\n",
              "      <td>91</td>\n",
              "      <td>89.0</td>\n",
              "      <td>2.0</td>\n",
              "      <td>NaN</td>\n",
              "    </tr>\n",
              "    <tr>\n",
              "      <th>466867</th>\n",
              "      <td>4</td>\n",
              "      <td>4.0</td>\n",
              "      <td>NaN</td>\n",
              "      <td>NaN</td>\n",
              "    </tr>\n",
              "  </tbody>\n",
              "</table>\n",
              "<p>235061 rows × 4 columns</p>\n",
              "</div>"
            ],
            "text/plain": [
              "        nb_visites  nb_views  nb_addtocarts  nb_transactions\n",
              "itemid                                                      \n",
              "3                2       2.0            NaN              NaN\n",
              "4                3       3.0            NaN              NaN\n",
              "6               29      29.0            NaN              NaN\n",
              "9                2       2.0            NaN              NaN\n",
              "15              22      18.0            3.0              1.0\n",
              "...            ...       ...            ...              ...\n",
              "466861          95      89.0            5.0              1.0\n",
              "466862           4       4.0            NaN              NaN\n",
              "466863           1       1.0            NaN              NaN\n",
              "466864          91      89.0            2.0              NaN\n",
              "466867           4       4.0            NaN              NaN\n",
              "\n",
              "[235061 rows x 4 columns]"
            ]
          },
          "metadata": {
            "tags": []
          },
          "execution_count": 6
        }
      ]
    },
    {
      "cell_type": "code",
      "metadata": {
        "id": "6vc3fcCd31Nn",
        "colab": {
          "base_uri": "https://localhost:8080/",
          "height": 235
        },
        "outputId": "b0458339-2745-4c01-bad4-5929249c11d9"
      },
      "source": [
        "## SOOYOUNG 30/01 ##\n",
        "n_produits = 40\n",
        "\n",
        "# les 20 produits plus achetés\n",
        "top_produits_vendus = items.sort_values(by='nb_transactions', ascending=False).head(n_produits)\n",
        "top_produits_vendus['cat_produits_plus_vendus'] = \"1\"\n",
        "top_produits_vendus = top_produits_vendus.drop(columns=['nb_visites', 'nb_views', 'nb_addtocarts'])\n",
        "\n",
        "# les 20 produits plus mis au panier\n",
        "top_produits_paniers = items.sort_values(by='nb_addtocarts', ascending=False).head(n_produits)\n",
        "top_produits_paniers['cat_produits_plus_mis_panier'] = \"1\"\n",
        "top_produits_paniers = top_produits_paniers.drop(columns=['nb_visites', 'nb_views', 'nb_transactions'])\n",
        "\n",
        "# les 20 produits plus vus\n",
        "top_produits_vus = items.sort_values(by='nb_views', ascending=False).head(n_produits)\n",
        "top_produits_vus['cat_produits_plus_vus'] = \"1\"\n",
        "top_produits_vus = top_produits_vus.drop(columns=['nb_visites', 'nb_addtocarts', 'nb_transactions'])\n",
        "\n",
        "# Merge les 3 dataframes OUTER\n",
        "top_produits = pd.merge(top_produits_vendus, top_produits_paniers, left_index=True, right_index=True, how='outer')\n",
        "top_produits = pd.merge(top_produits, top_produits_vus, left_index=True, right_index=True, how='outer')\n",
        "\n",
        "top_produits = top_produits[['nb_views', 'nb_addtocarts', 'nb_transactions', 'cat_produits_plus_vus', 'cat_produits_plus_mis_panier', 'cat_produits_plus_vendus']]\n",
        "top_produits"
      ],
      "execution_count": null,
      "outputs": [
        {
          "output_type": "error",
          "ename": "NameError",
          "evalue": "ignored",
          "traceback": [
            "\u001b[0;31m---------------------------------------------------------------------------\u001b[0m",
            "\u001b[0;31mNameError\u001b[0m                                 Traceback (most recent call last)",
            "\u001b[0;32m<ipython-input-3-0dc0d4a91f05>\u001b[0m in \u001b[0;36m<module>\u001b[0;34m()\u001b[0m\n\u001b[1;32m      3\u001b[0m \u001b[0;34m\u001b[0m\u001b[0m\n\u001b[1;32m      4\u001b[0m \u001b[0;31m# les 20 produits plus achetés\u001b[0m\u001b[0;34m\u001b[0m\u001b[0;34m\u001b[0m\u001b[0;34m\u001b[0m\u001b[0m\n\u001b[0;32m----> 5\u001b[0;31m \u001b[0mtop_produits_vendus\u001b[0m \u001b[0;34m=\u001b[0m \u001b[0mitems\u001b[0m\u001b[0;34m.\u001b[0m\u001b[0msort_values\u001b[0m\u001b[0;34m(\u001b[0m\u001b[0mby\u001b[0m\u001b[0;34m=\u001b[0m\u001b[0;34m'nb_transactions'\u001b[0m\u001b[0;34m,\u001b[0m \u001b[0mascending\u001b[0m\u001b[0;34m=\u001b[0m\u001b[0;32mFalse\u001b[0m\u001b[0;34m)\u001b[0m\u001b[0;34m.\u001b[0m\u001b[0mhead\u001b[0m\u001b[0;34m(\u001b[0m\u001b[0mn_produits\u001b[0m\u001b[0;34m)\u001b[0m\u001b[0;34m\u001b[0m\u001b[0;34m\u001b[0m\u001b[0m\n\u001b[0m\u001b[1;32m      6\u001b[0m \u001b[0mtop_produits_vendus\u001b[0m\u001b[0;34m[\u001b[0m\u001b[0;34m'cat_produits_plus_vendus'\u001b[0m\u001b[0;34m]\u001b[0m \u001b[0;34m=\u001b[0m \u001b[0;34m\"1\"\u001b[0m\u001b[0;34m\u001b[0m\u001b[0;34m\u001b[0m\u001b[0m\n\u001b[1;32m      7\u001b[0m \u001b[0mtop_produits_vendus\u001b[0m \u001b[0;34m=\u001b[0m \u001b[0mtop_produits_vendus\u001b[0m\u001b[0;34m.\u001b[0m\u001b[0mdrop\u001b[0m\u001b[0;34m(\u001b[0m\u001b[0mcolumns\u001b[0m\u001b[0;34m=\u001b[0m\u001b[0;34m[\u001b[0m\u001b[0;34m'nb_visites'\u001b[0m\u001b[0;34m,\u001b[0m \u001b[0;34m'nb_views'\u001b[0m\u001b[0;34m,\u001b[0m \u001b[0;34m'nb_addtocarts'\u001b[0m\u001b[0;34m]\u001b[0m\u001b[0;34m)\u001b[0m\u001b[0;34m\u001b[0m\u001b[0;34m\u001b[0m\u001b[0m\n",
            "\u001b[0;31mNameError\u001b[0m: name 'items' is not defined"
          ]
        }
      ]
    },
    {
      "cell_type": "code",
      "metadata": {
        "id": "dSh1b4AhL6LL"
      },
      "source": [
        "## SOOYOUNG 30/01 ##\n",
        "# Créer catégorie cat_produits_recommandations\n",
        "# Si un produit est dans les 3 catégories plus vus, plus mis, plus vendus, \n",
        "# le produit sera classé 3 étoiles dans cat_produits_recommandations\n",
        "top_produits = top_produits.fillna(0)\n",
        "top_produits['stars_produits_recommandations'] = top_produits['cat_produits_plus_vus'].astype(int) + top_produits['cat_produits_plus_mis_panier'].astype(int) + top_produits['cat_produits_plus_vendus'].astype(int)\n",
        "\n",
        "top_produits = top_produits.sort_values(by='stars_produits_recommandations', ascending=False)\n",
        "top_produits"
      ],
      "execution_count": null,
      "outputs": []
    },
    {
      "cell_type": "code",
      "metadata": {
        "id": "gy94O4O15ZmC"
      },
      "source": [
        "PARTIE MELISSA "
      ],
      "execution_count": null,
      "outputs": []
    },
    {
      "cell_type": "code",
      "metadata": {
        "id": "9GGc5uVB6U7w"
      },
      "source": [
        "#Postulat : je cherche à crée un modèle prédictif pouvant prédire si un type d'achat ...\r\n",
        "#...peut conduire à un autre type d'achat, en fonction du comportement des autres acheteur"
      ],
      "execution_count": null,
      "outputs": []
    },
    {
      "cell_type": "code",
      "metadata": {
        "colab": {
          "base_uri": "https://localhost:8080/"
        },
        "id": "Kbl269I75dro",
        "outputId": "e662a7bf-1ab4-4f9d-9a84-6f07f4a2a538"
      },
      "source": [
        "# Exploration du jeu de données\r\n",
        "df.info()\r\n",
        "## Obs : nous avons que des variables numériques, à l'exception de la variable event qui est une variable catégorielle"
      ],
      "execution_count": null,
      "outputs": [
        {
          "output_type": "stream",
          "text": [
            "<class 'pandas.core.frame.DataFrame'>\n",
            "RangeIndex: 2756101 entries, 0 to 2756100\n",
            "Data columns (total 11 columns):\n",
            " #   Column         Dtype         \n",
            "---  ------         -----         \n",
            " 0   timestamp      int64         \n",
            " 1   visitorid      int64         \n",
            " 2   event          object        \n",
            " 3   itemid         int64         \n",
            " 4   transactionid  float64       \n",
            " 5   date           datetime64[ns]\n",
            " 6   year           int64         \n",
            " 7   month          int64         \n",
            " 8   day            int64         \n",
            " 9   dayofweek      int64         \n",
            " 10  hour           int64         \n",
            "dtypes: datetime64[ns](1), float64(1), int64(8), object(1)\n",
            "memory usage: 231.3+ MB\n"
          ],
          "name": "stdout"
        }
      ]
    },
    {
      "cell_type": "code",
      "metadata": {
        "colab": {
          "base_uri": "https://localhost:8080/"
        },
        "id": "F78tSP256JxL",
        "outputId": "098a4bd4-44d6-4944-ae36-5536204a3ce2"
      },
      "source": [
        "# Count null features in the dataset\r\n",
        "df.isnull().sum()"
      ],
      "execution_count": null,
      "outputs": [
        {
          "output_type": "execute_result",
          "data": {
            "text/plain": [
              "timestamp              0\n",
              "visitorid              0\n",
              "event                  0\n",
              "itemid                 0\n",
              "transactionid    2733644\n",
              "date                   0\n",
              "year                   0\n",
              "month                  0\n",
              "day                    0\n",
              "dayofweek              0\n",
              "hour                   0\n",
              "dtype: int64"
            ]
          },
          "metadata": {
            "tags": []
          },
          "execution_count": 6
        }
      ]
    },
    {
      "cell_type": "code",
      "metadata": {
        "colab": {
          "base_uri": "https://localhost:8080/"
        },
        "id": "nxv55Ja185yv",
        "outputId": "74059d91-e555-4f90-96e0-07ef7cf6ce37"
      },
      "source": [
        "#Il faut remplacer les features nulles with zero valures afin d'avoir un dataset clean pour faire le modèle de prédiction\r\n",
        "#replace the null features with 0:\r\n",
        "df.fillna(0, inplace=True) \r\n",
        "# Re-check N/A was replaced with 0.\r\n",
        "df.isnull().sum()\r\n",
        "#ok"
      ],
      "execution_count": null,
      "outputs": [
        {
          "output_type": "execute_result",
          "data": {
            "text/plain": [
              "timestamp        0\n",
              "visitorid        0\n",
              "event            0\n",
              "itemid           0\n",
              "transactionid    0\n",
              "date             0\n",
              "year             0\n",
              "month            0\n",
              "day              0\n",
              "dayofweek        0\n",
              "hour             0\n",
              "dtype: int64"
            ]
          },
          "metadata": {
            "tags": []
          },
          "execution_count": 7
        }
      ]
    },
    {
      "cell_type": "code",
      "metadata": {
        "id": "1zeTkgId9tQD"
      },
      "source": [
        "#Dans cette BDD, nous avons toutes les transactions effectuées par les visitor id ...\r\n",
        "# qui inclut chaque transaction effectuée par chacun d'entre eux. \r\n"
      ],
      "execution_count": null,
      "outputs": []
    },
    {
      "cell_type": "code",
      "metadata": {
        "colab": {
          "base_uri": "https://localhost:8080/",
          "height": 202
        },
        "id": "eaG5GJqt-KnE",
        "outputId": "acf83ca6-f786-4b80-b6fe-f776a552d7d2"
      },
      "source": [
        "#Group by User ID\r\n",
        "purchases = df.groupby(['visitorid']).sum().reset_index()\r\n"
      ],
      "execution_count": null,
      "outputs": [
        {
          "output_type": "execute_result",
          "data": {
            "text/html": [
              "<div>\n",
              "<style scoped>\n",
              "    .dataframe tbody tr th:only-of-type {\n",
              "        vertical-align: middle;\n",
              "    }\n",
              "\n",
              "    .dataframe tbody tr th {\n",
              "        vertical-align: top;\n",
              "    }\n",
              "\n",
              "    .dataframe thead th {\n",
              "        text-align: right;\n",
              "    }\n",
              "</style>\n",
              "<table border=\"1\" class=\"dataframe\">\n",
              "  <thead>\n",
              "    <tr style=\"text-align: right;\">\n",
              "      <th></th>\n",
              "      <th>visitorid</th>\n",
              "      <th>timestamp</th>\n",
              "      <th>itemid</th>\n",
              "      <th>transactionid</th>\n",
              "      <th>year</th>\n",
              "      <th>month</th>\n",
              "      <th>day</th>\n",
              "      <th>dayofweek</th>\n",
              "      <th>hour</th>\n",
              "    </tr>\n",
              "  </thead>\n",
              "  <tbody>\n",
              "    <tr>\n",
              "      <th>0</th>\n",
              "      <td>0</td>\n",
              "      <td>4326014266205</td>\n",
              "      <td>710539</td>\n",
              "      <td>0.0</td>\n",
              "      <td>6045</td>\n",
              "      <td>27</td>\n",
              "      <td>33</td>\n",
              "      <td>12</td>\n",
              "      <td>60</td>\n",
              "    </tr>\n",
              "    <tr>\n",
              "      <th>1</th>\n",
              "      <td>1</td>\n",
              "      <td>1439487966444</td>\n",
              "      <td>72028</td>\n",
              "      <td>0.0</td>\n",
              "      <td>2015</td>\n",
              "      <td>8</td>\n",
              "      <td>13</td>\n",
              "      <td>3</td>\n",
              "      <td>17</td>\n",
              "    </tr>\n",
              "    <tr>\n",
              "      <th>2</th>\n",
              "      <td>2</td>\n",
              "      <td>11511766071000</td>\n",
              "      <td>2353771</td>\n",
              "      <td>0.0</td>\n",
              "      <td>16120</td>\n",
              "      <td>64</td>\n",
              "      <td>56</td>\n",
              "      <td>32</td>\n",
              "      <td>141</td>\n",
              "    </tr>\n",
              "    <tr>\n",
              "      <th>3</th>\n",
              "      <td>3</td>\n",
              "      <td>1438413035296</td>\n",
              "      <td>385090</td>\n",
              "      <td>0.0</td>\n",
              "      <td>2015</td>\n",
              "      <td>8</td>\n",
              "      <td>1</td>\n",
              "      <td>5</td>\n",
              "      <td>7</td>\n",
              "    </tr>\n",
              "    <tr>\n",
              "      <th>4</th>\n",
              "      <td>4</td>\n",
              "      <td>1442352267167</td>\n",
              "      <td>177677</td>\n",
              "      <td>0.0</td>\n",
              "      <td>2015</td>\n",
              "      <td>9</td>\n",
              "      <td>15</td>\n",
              "      <td>1</td>\n",
              "      <td>21</td>\n",
              "    </tr>\n",
              "  </tbody>\n",
              "</table>\n",
              "</div>"
            ],
            "text/plain": [
              "   visitorid       timestamp   itemid  ...  day  dayofweek  hour\n",
              "0          0   4326014266205   710539  ...   33         12    60\n",
              "1          1   1439487966444    72028  ...   13          3    17\n",
              "2          2  11511766071000  2353771  ...   56         32   141\n",
              "3          3   1438413035296   385090  ...    1          5     7\n",
              "4          4   1442352267167   177677  ...   15          1    21\n",
              "\n",
              "[5 rows x 9 columns]"
            ]
          },
          "metadata": {
            "tags": []
          },
          "execution_count": 17
        }
      ]
    },
    {
      "cell_type": "code",
      "metadata": {
        "colab": {
          "base_uri": "https://localhost:8080/",
          "height": 110
        },
        "id": "2rZH5BwL_enE",
        "outputId": "df5b83a3-04a6-430d-ed8e-3a0f680a8a20"
      },
      "source": [
        "#test with one visitor ID\r\n",
        "df[df['visitorid'] == 122000]\r\n",
        "#J'obtiens le comportement du consommateur 122000. J'observe que ce client ne fait que regarder certains article, ce n'est pas un acheteur.\r\n"
      ],
      "execution_count": null,
      "outputs": [
        {
          "output_type": "execute_result",
          "data": {
            "text/html": [
              "<div>\n",
              "<style scoped>\n",
              "    .dataframe tbody tr th:only-of-type {\n",
              "        vertical-align: middle;\n",
              "    }\n",
              "\n",
              "    .dataframe tbody tr th {\n",
              "        vertical-align: top;\n",
              "    }\n",
              "\n",
              "    .dataframe thead th {\n",
              "        text-align: right;\n",
              "    }\n",
              "</style>\n",
              "<table border=\"1\" class=\"dataframe\">\n",
              "  <thead>\n",
              "    <tr style=\"text-align: right;\">\n",
              "      <th></th>\n",
              "      <th>timestamp</th>\n",
              "      <th>visitorid</th>\n",
              "      <th>event</th>\n",
              "      <th>itemid</th>\n",
              "      <th>transactionid</th>\n",
              "      <th>date</th>\n",
              "      <th>year</th>\n",
              "      <th>month</th>\n",
              "      <th>day</th>\n",
              "      <th>dayofweek</th>\n",
              "      <th>hour</th>\n",
              "    </tr>\n",
              "  </thead>\n",
              "  <tbody>\n",
              "    <tr>\n",
              "      <th>483095</th>\n",
              "      <td>1435163445461</td>\n",
              "      <td>122000</td>\n",
              "      <td>view</td>\n",
              "      <td>80146</td>\n",
              "      <td>0.0</td>\n",
              "      <td>2015-06-24 16:30:45.461</td>\n",
              "      <td>2015</td>\n",
              "      <td>6</td>\n",
              "      <td>24</td>\n",
              "      <td>2</td>\n",
              "      <td>16</td>\n",
              "    </tr>\n",
              "    <tr>\n",
              "      <th>1311056</th>\n",
              "      <td>1441816735149</td>\n",
              "      <td>122000</td>\n",
              "      <td>view</td>\n",
              "      <td>202788</td>\n",
              "      <td>0.0</td>\n",
              "      <td>2015-09-09 16:38:55.149</td>\n",
              "      <td>2015</td>\n",
              "      <td>9</td>\n",
              "      <td>9</td>\n",
              "      <td>2</td>\n",
              "      <td>16</td>\n",
              "    </tr>\n",
              "  </tbody>\n",
              "</table>\n",
              "</div>"
            ],
            "text/plain": [
              "             timestamp  visitorid event  itemid  ...  month day  dayofweek  hour\n",
              "483095   1435163445461     122000  view   80146  ...      6  24          2    16\n",
              "1311056  1441816735149     122000  view  202788  ...      9   9          2    16\n",
              "\n",
              "[2 rows x 11 columns]"
            ]
          },
          "metadata": {
            "tags": []
          },
          "execution_count": 20
        }
      ]
    },
    {
      "cell_type": "code",
      "metadata": {
        "id": "QNOuJ2DoAAIG"
      },
      "source": [
        "#Je cherche à segmenter par type de comportement sur le site \r\n",
        "#test qui ne marche pas\r\n",
        "# df[df['visitorid'] == 2].loc[:['event','itemid','transactionid']]"
      ],
      "execution_count": null,
      "outputs": []
    },
    {
      "cell_type": "code",
      "metadata": {
        "colab": {
          "base_uri": "https://localhost:8080/"
        },
        "id": "9qhduJiwHs7o",
        "outputId": "150cca41-cd06-443c-89bd-d925c18a95fd"
      },
      "source": [
        "#La prédiction peut se faire aussi par les produits les plus achetés, ceux qui ont donc le plus de chances d'être achetés.\r\n",
        "# item id represente le numero de l'item\r\n",
        "\r\n",
        "df['itemid'].value_counts().head()\r\n",
        "#Ci-dessous, les articles qui apparaissent le plus souvent dans les commandes. \r\n"
      ],
      "execution_count": null,
      "outputs": [
        {
          "output_type": "execute_result",
          "data": {
            "text/plain": [
              "187946    3412\n",
              "461686    2978\n",
              "5411      2334\n",
              "370653    1854\n",
              "219512    1800\n",
              "Name: itemid, dtype: int64"
            ]
          },
          "metadata": {
            "tags": []
          },
          "execution_count": 45
        }
      ]
    },
    {
      "cell_type": "code",
      "metadata": {
        "id": "xq501GrjWvJP"
      },
      "source": [
        ""
      ],
      "execution_count": null,
      "outputs": []
    },
    {
      "cell_type": "code",
      "metadata": {
        "colab": {
          "base_uri": "https://localhost:8080/",
          "height": 473
        },
        "id": "WJifOcwcI015",
        "outputId": "d018ff29-1bb9-47f9-8672-e1ca93bdc7c4"
      },
      "source": [
        "#création d'un graphique avec les 15 articles les plus vendus\r\n",
        "item_counts = df['itemid'].value_counts().sort_values(ascending=False).iloc[0:15]\r\n",
        "plt.figure(figsize=(18,6))\r\n",
        "sns.barplot(item_counts.index, item_counts.values, palette=sns.cubehelix_palette(15))\r\n",
        "plt.ylabel(\"Counts\")\r\n",
        "plt.title(\"Which items were bought more often?\");\r\n",
        "plt.xticks(rotation=90);"
      ],
      "execution_count": null,
      "outputs": [
        {
          "output_type": "stream",
          "text": [
            "/usr/local/lib/python3.6/dist-packages/seaborn/_decorators.py:43: FutureWarning: Pass the following variables as keyword args: x, y. From version 0.12, the only valid positional argument will be `data`, and passing other arguments without an explicit keyword will result in an error or misinterpretation.\n",
            "  FutureWarning\n"
          ],
          "name": "stderr"
        },
        {
          "output_type": "display_data",
          "data": {
            "image/png": "[encoded data removed]",
            "text/plain": [
              "<Figure size 1296x432 with 1 Axes>"
            ]
          },
          "metadata": {
            "tags": []
          }
        }
      ]
    },
    {
      "cell_type": "code",
      "metadata": {
        "id": "dMo8qT-eAoRo"
      },
      "source": [
        "## Début partie Sadali"
      ],
      "execution_count": null,
      "outputs": []
    },
    {
      "cell_type": "code",
      "metadata": {
        "id": "g-TcVHqCHsid"
      },
      "source": [
        "# (Sadali) PARTIE Analyse des utilisateurs \r\n",
        "# dataframe avec que les transactions supérieur ou égal à 0 \r\n",
        "transac = df[df['transactionid'] >= 0]\r\n",
        "\r\n",
        "\r\n"
      ],
      "execution_count": null,
      "outputs": []
    },
    {
      "cell_type": "code",
      "metadata": {
        "id": "3o5urED_LC-N",
        "colab": {
          "base_uri": "https://localhost:8080/"
        },
        "outputId": "b47a61e4-730d-4f9e-9cfe-0b2b4f8d3897"
      },
      "source": [
        "# analysons le comportement des 10 visiteurs ayant effectué le plus de transactions\r\n",
        "import seaborn as sns \r\n",
        "n = 10\r\n",
        "transac['visitorid'].value_counts()[:n].index.tolist()\r\n",
        "l = transac['visitorid'].value_counts()[:n].index.tolist()\r\n",
        "newtran10 = transac['visitorid'].isin(l)\r\n",
        "# Les 10 visiteurs ayant fait le plus de transactions en ont réalisé 2342 sur les 22457.\r\n",
        "transac[newtran10].visitorid.value_counts()"
      ],
      "execution_count": null,
      "outputs": [
        {
          "output_type": "execute_result",
          "data": {
            "text/plain": [
              "1150086    559\n",
              "152963     349\n",
              "530559     286\n",
              "684514     189\n",
              "861299     188\n",
              "76757      185\n",
              "138131     173\n",
              "890980     145\n",
              "1297062    136\n",
              "247235     132\n",
              "Name: visitorid, dtype: int64"
            ]
          },
          "metadata": {
            "tags": []
          },
          "execution_count": 6
        }
      ]
    },
    {
      "cell_type": "code",
      "metadata": {
        "id": "Odlbo7AlJk6u",
        "colab": {
          "base_uri": "https://localhost:8080/",
          "height": 279
        },
        "outputId": "f18f2127-d67f-4d74-a3e2-9c9b95776a19"
      },
      "source": [
        "# analysons le comportement des 20 visiteurs ayant effectué le plus de transactions \r\n",
        "n = 20\r\n",
        "transac['visitorid'].value_counts()[:n].index.tolist()\r\n",
        "l = [1150086,152963,530559,684514,861299,76757,138131,890980,1297062,247235,1161163,350566,645525,198270,757355,705542,371606,163561,836635,\r\n",
        " 1385073]\r\n",
        "newtran = transac['visitorid'].isin(l)\r\n",
        "sns.countplot(x= 'hour',data=transac[newtran]);\r\n",
        "# Les visiteurs ayant effectué le plus de transactions les ont réalisées entre minuit et 5h et 17h et 23h.\r\n"
      ],
      "execution_count": null,
      "outputs": [
        {
          "output_type": "display_data",
          "data": {
            "image/png": "[encoded data removed]",
            "text/plain": [
              "<Figure size 432x288 with 1 Axes>"
            ]
          },
          "metadata": {
            "tags": [],
            "needs_background": "light"
          }
        }
      ]
    },
    {
      "cell_type": "code",
      "metadata": {
        "colab": {
          "base_uri": "https://localhost:8080/",
          "height": 455
        },
        "id": "YNSz41paGkp4",
        "outputId": "2b940c09-05ab-4e11-c82a-0d759759e08f"
      },
      "source": [
        "# Classement des itemids en fontion du nombre de transactions\r\n",
        "items_max = items_transaction.sort_values(by='nb_transactions', ascending= False)\r\n",
        "items_max"
      ],
      "execution_count": null,
      "outputs": [
        {
          "output_type": "execute_result",
          "data": {
            "text/html": [
              "<div>\n",
              "<style scoped>\n",
              "    .dataframe tbody tr th:only-of-type {\n",
              "        vertical-align: middle;\n",
              "    }\n",
              "\n",
              "    .dataframe tbody tr th {\n",
              "        vertical-align: top;\n",
              "    }\n",
              "\n",
              "    .dataframe thead th {\n",
              "        text-align: right;\n",
              "    }\n",
              "</style>\n",
              "<table border=\"1\" class=\"dataframe\">\n",
              "  <thead>\n",
              "    <tr style=\"text-align: right;\">\n",
              "      <th></th>\n",
              "      <th>nb_transactions</th>\n",
              "    </tr>\n",
              "    <tr>\n",
              "      <th>itemid</th>\n",
              "      <th></th>\n",
              "    </tr>\n",
              "  </thead>\n",
              "  <tbody>\n",
              "    <tr>\n",
              "      <th>461686</th>\n",
              "      <td>133</td>\n",
              "    </tr>\n",
              "    <tr>\n",
              "      <th>119736</th>\n",
              "      <td>97</td>\n",
              "    </tr>\n",
              "    <tr>\n",
              "      <th>213834</th>\n",
              "      <td>92</td>\n",
              "    </tr>\n",
              "    <tr>\n",
              "      <th>312728</th>\n",
              "      <td>46</td>\n",
              "    </tr>\n",
              "    <tr>\n",
              "      <th>7943</th>\n",
              "      <td>46</td>\n",
              "    </tr>\n",
              "    <tr>\n",
              "      <th>...</th>\n",
              "      <td>...</td>\n",
              "    </tr>\n",
              "    <tr>\n",
              "      <th>190034</th>\n",
              "      <td>1</td>\n",
              "    </tr>\n",
              "    <tr>\n",
              "      <th>190095</th>\n",
              "      <td>1</td>\n",
              "    </tr>\n",
              "    <tr>\n",
              "      <th>190243</th>\n",
              "      <td>1</td>\n",
              "    </tr>\n",
              "    <tr>\n",
              "      <th>190246</th>\n",
              "      <td>1</td>\n",
              "    </tr>\n",
              "    <tr>\n",
              "      <th>466861</th>\n",
              "      <td>1</td>\n",
              "    </tr>\n",
              "  </tbody>\n",
              "</table>\n",
              "<p>12025 rows × 1 columns</p>\n",
              "</div>"
            ],
            "text/plain": [
              "        nb_transactions\n",
              "itemid                 \n",
              "461686              133\n",
              "119736               97\n",
              "213834               92\n",
              "312728               46\n",
              "7943                 46\n",
              "...                 ...\n",
              "190034                1\n",
              "190095                1\n",
              "190243                1\n",
              "190246                1\n",
              "466861                1\n",
              "\n",
              "[12025 rows x 1 columns]"
            ]
          },
          "metadata": {
            "tags": []
          },
          "execution_count": 27
        }
      ]
    },
    {
      "cell_type": "code",
      "metadata": {
        "colab": {
          "base_uri": "https://localhost:8080/",
          "height": 596
        },
        "id": "VAgiPWAU_8Ds",
        "outputId": "f9a0eeac-6083-4384-bf8a-31b78f634733"
      },
      "source": [
        "# Etudier l'évolution des items les plus achetés par rapport au mois  \r\n",
        "l = {461686,119736}\r\n",
        "max_item_1 = df.loc[df['itemid']==461686] \r\n",
        "max_item_2 = df.loc[df['itemid']==119736]\r\n",
        "max_item_3 = df.loc[df['itemid']==213834]\r\n",
        "max_item_4 = df.loc[df['itemid']==312728]\r\n",
        "\r\n",
        "fig = plt.figure(figsize=(10,10))\r\n",
        "\r\n",
        "plt.subplot(221)\r\n",
        "plt.axis([4,10,0,1000])\r\n",
        "plt.hist(max_item_1.month);\r\n",
        "\r\n",
        "plt.subplot(222)\r\n",
        "plt.axis([4,10,0,1000])\r\n",
        "plt.hist(max_item_2.month);\r\n",
        "\r\n",
        "plt.subplot(223)\r\n",
        "plt.axis([4,10,0,1000])\r\n",
        "plt.hist(max_item_3.month);\r\n",
        "\r\n",
        "plt.subplot(224)\r\n",
        "plt.axis([4,10,0,1000])\r\n",
        "plt.hist(max_item_4.month);\r\n",
        "\r\n",
        "#  Nous pouvons constater que l'item 461686, produit star, est plus populaire au mois de juillet et août\r\n",
        "#  l'item 119736 est plus populaire au mois de juin et août\r\n",
        "#  l'item 213834 est plus populaire au mois de juillet\r\n",
        "#  l'item 312728 est plus populaire durant l'été "
      ],
      "execution_count": null,
      "outputs": [
        {
          "output_type": "display_data",
          "data": {
            "image/png": "[encoded data removed]",
            "text/plain": [
              "<Figure size 720x720 with 4 Axes>"
            ]
          },
          "metadata": {
            "tags": [],
            "needs_background": "light"
          }
        }
      ]
    },
    {
      "cell_type": "code",
      "metadata": {
        "colab": {
          "base_uri": "https://localhost:8080/",
          "height": 350
        },
        "id": "sSATNNy_RPXI",
        "outputId": "7ca078ab-3e86-4639-d24b-074ae62f772f"
      },
      "source": [
        "fig = plt.figure(figsize=(6,4))\r\n",
        "plt.hist([max_item_1.event,max_item_2.event,max_item_3.event,max_item_4.event],color =['#f27750','#f7bf59','#EE3459','green'], label=['461686','119736','213834','312728'],rwidth=10);\r\n",
        "plt.xlabel('Event')\r\n",
        "plt.title('Histogramme')\r\n",
        "plt.legend();\r\n",
        "### Attention pbm plus de transactions que d'ajout au panier : doublons?\r\n",
        "# Cet histogramme nous montre que le produit star 461686 necessite beaucoup de visites pour être ajouté dans le panier et acheté\r\n",
        "# Au contraire, les vues du produit 213834 se transforme plus souvent en achat. # Il faudrait peut être augmenter la publicité sur ce produit et le mettre en avant sur le site."
      ],
      "execution_count": null,
      "outputs": [
        {
          "output_type": "stream",
          "text": [
            "/usr/local/lib/python3.6/dist-packages/numpy/core/_asarray.py:83: VisibleDeprecationWarning: Creating an ndarray from ragged nested sequences (which is a list-or-tuple of lists-or-tuples-or ndarrays with different lengths or shapes) is deprecated. If you meant to do this, you must specify 'dtype=object' when creating the ndarray\n",
            "  return array(a, dtype, copy=False, order=order)\n"
          ],
          "name": "stderr"
        },
        {
          "output_type": "display_data",
          "data": {
            "image/png": "[encoded data removed]",
            "text/plain": [
              "<Figure size 432x288 with 1 Axes>"
            ]
          },
          "metadata": {
            "tags": [],
            "needs_background": "light"
          }
        }
      ]
    },
    {
      "cell_type": "code",
      "metadata": {
        "colab": {
          "base_uri": "https://localhost:8080/"
        },
        "id": "oJd6ZVwfA232",
        "outputId": "6bc010ba-5d76-4c9c-ecee-b06f186183d1"
      },
      "source": [
        "# Taux de conversion du produit 213834\r\n",
        "max_item_3['event'].value_counts()"
      ],
      "execution_count": null,
      "outputs": [
        {
          "output_type": "execute_result",
          "data": {
            "text/plain": [
              "view           293\n",
              "transaction     92\n",
              "addtocart       17\n",
              "Name: event, dtype: int64"
            ]
          },
          "metadata": {
            "tags": []
          },
          "execution_count": 28
        }
      ]
    },
    {
      "cell_type": "code",
      "metadata": {
        "id": "3rm4J_Yf5u5F"
      },
      "source": [
        "## Partie DataViz et Test"
      ],
      "execution_count": null,
      "outputs": []
    },
    {
      "cell_type": "code",
      "metadata": {
        "colab": {
          "base_uri": "https://localhost:8080/",
          "height": 384
        },
        "id": "IxBqerLo4x-J",
        "outputId": "d8232d7b-98a4-41ba-8358-0ff935277e60"
      },
      "source": [
        "stats\r\n",
        "sns.relplot(x='nb_views',y='nb_transactions',data=stats);\r\n",
        "# Commentaire\r\n",
        "# Le lien entre les variables views et transactions est moins clair que celui de visites et views, mais il semble\r\n",
        "# y'avoir une relation linéaire."
      ],
      "execution_count": null,
      "outputs": [
        {
          "output_type": "display_data",
          "data": {
            "image/png": "[encoded data removed]",
            "text/plain": [
              "<Figure size 360x360 with 1 Axes>"
            ]
          },
          "metadata": {
            "tags": [],
            "needs_background": "light"
          }
        }
      ]
    },
    {
      "cell_type": "code",
      "metadata": {
        "colab": {
          "base_uri": "https://localhost:8080/"
        },
        "id": "S8I6deE94zbn",
        "outputId": "1d9e0d73-a185-468e-b39a-1c4407117b7c"
      },
      "source": [
        "# Remplaçons les Nans par 0 \r\n",
        "stats = stats.fillna(0)\r\n",
        "# Vérifions que les Nans ont bien été remplacé\r\n",
        "stats.isnull().sum(axis = 0)"
      ],
      "execution_count": null,
      "outputs": [
        {
          "output_type": "execute_result",
          "data": {
            "text/plain": [
              "nb_visites         0\n",
              "nb_views           0\n",
              "nb_addtocarts      0\n",
              "nb_transactions    0\n",
              "nb_month_7         0\n",
              "nb_month_6         0\n",
              "nb_month_5         0\n",
              "nb_month_8         0\n",
              "nb_month_9         0\n",
              "dtype: int64"
            ]
          },
          "metadata": {
            "tags": []
          },
          "execution_count": 6
        }
      ]
    },
    {
      "cell_type": "code",
      "metadata": {
        "colab": {
          "base_uri": "https://localhost:8080/",
          "height": 110
        },
        "id": "RmjgXD4F49Qy",
        "outputId": "c0ccfd5c-913c-4034-feca-62ea5abddac0"
      },
      "source": [
        "# Vérifions cela avec un test de Pearson \r\n",
        "from scipy.stats import pearsonr\r\n",
        "pd.DataFrame(pearsonr(stats['nb_views'], stats['nb_transactions']), index=['pearson_coef','p-value'], columns = ['resultat_test'])\r\n",
        "# p-value = 0<0.05 On rejette H0 : les deux variables ne sont donc pas indépendantes\r\n",
        "# coefficient de pearson = 0.782903 : Les deux variables sont assez fortement corrélées."
      ],
      "execution_count": null,
      "outputs": [
        {
          "output_type": "execute_result",
          "data": {
            "text/html": [
              "<div>\n",
              "<style scoped>\n",
              "    .dataframe tbody tr th:only-of-type {\n",
              "        vertical-align: middle;\n",
              "    }\n",
              "\n",
              "    .dataframe tbody tr th {\n",
              "        vertical-align: top;\n",
              "    }\n",
              "\n",
              "    .dataframe thead th {\n",
              "        text-align: right;\n",
              "    }\n",
              "</style>\n",
              "<table border=\"1\" class=\"dataframe\">\n",
              "  <thead>\n",
              "    <tr style=\"text-align: right;\">\n",
              "      <th></th>\n",
              "      <th>resultat_test</th>\n",
              "    </tr>\n",
              "  </thead>\n",
              "  <tbody>\n",
              "    <tr>\n",
              "      <th>pearson_coef</th>\n",
              "      <td>0.782903</td>\n",
              "    </tr>\n",
              "    <tr>\n",
              "      <th>p-value</th>\n",
              "      <td>0.000000</td>\n",
              "    </tr>\n",
              "  </tbody>\n",
              "</table>\n",
              "</div>"
            ],
            "text/plain": [
              "              resultat_test\n",
              "pearson_coef       0.782903\n",
              "p-value            0.000000"
            ]
          },
          "metadata": {
            "tags": []
          },
          "execution_count": 7
        }
      ]
    },
    {
      "cell_type": "code",
      "metadata": {
        "colab": {
          "base_uri": "https://localhost:8080/",
          "height": 384
        },
        "id": "i9NjzkSH5Bqt",
        "outputId": "61a8fd26-e8b0-413a-c47b-47b57db7fa83"
      },
      "source": [
        "items\r\n",
        "sns.relplot(x='nb_views',y='nb_transactions',data=items);\r\n",
        "# Il est difficile d'établir un lien concret mais nous pouvons penser qu'il existe une relation linéaire."
      ],
      "execution_count": null,
      "outputs": [
        {
          "output_type": "display_data",
          "data": {
            "image/png": "[encoded data removed]",
            "text/plain": [
              "<Figure size 360x360 with 1 Axes>"
            ]
          },
          "metadata": {
            "tags": [],
            "needs_background": "light"
          }
        }
      ]
    },
    {
      "cell_type": "code",
      "metadata": {
        "colab": {
          "base_uri": "https://localhost:8080/"
        },
        "id": "XKlGYULt5FqE",
        "outputId": "a466857e-604d-4356-a966-59bcce861d3d"
      },
      "source": [
        "# Remplaçons les Nans par 0 \r\n",
        "items = items.fillna(0)\r\n",
        "# Vérifions que les Nans ont bien été remplacé\r\n",
        "items.isnull().sum(axis = 0)"
      ],
      "execution_count": null,
      "outputs": [
        {
          "output_type": "execute_result",
          "data": {
            "text/plain": [
              "nb_visites         0\n",
              "nb_views           0\n",
              "nb_addtocarts      0\n",
              "nb_transactions    0\n",
              "dtype: int64"
            ]
          },
          "metadata": {
            "tags": []
          },
          "execution_count": 11
        }
      ]
    },
    {
      "cell_type": "code",
      "metadata": {
        "colab": {
          "base_uri": "https://localhost:8080/",
          "height": 110
        },
        "id": "RSCPbdRx5Lrs",
        "outputId": "ebc887f6-12ce-43f5-ebb8-60810a247403"
      },
      "source": [
        "# Vérifions cela avec un test de Pearson \r\n",
        "from scipy.stats import pearsonr\r\n",
        "pd.DataFrame(pearsonr(items['nb_views'], items['nb_transactions']), index=['pearson_coef','p-value'], columns = ['resultat_test'])\r\n",
        "# p-value = 0<0.05 On rejette H0 : les deux variables ne sont donc pas indépendantes\r\n",
        "# coefficient de pearson = 0.540263 : Les deux variables sont moyennement corrélées."
      ],
      "execution_count": null,
      "outputs": [
        {
          "output_type": "execute_result",
          "data": {
            "text/html": [
              "<div>\n",
              "<style scoped>\n",
              "    .dataframe tbody tr th:only-of-type {\n",
              "        vertical-align: middle;\n",
              "    }\n",
              "\n",
              "    .dataframe tbody tr th {\n",
              "        vertical-align: top;\n",
              "    }\n",
              "\n",
              "    .dataframe thead th {\n",
              "        text-align: right;\n",
              "    }\n",
              "</style>\n",
              "<table border=\"1\" class=\"dataframe\">\n",
              "  <thead>\n",
              "    <tr style=\"text-align: right;\">\n",
              "      <th></th>\n",
              "      <th>resultat_test</th>\n",
              "    </tr>\n",
              "  </thead>\n",
              "  <tbody>\n",
              "    <tr>\n",
              "      <th>pearson_coef</th>\n",
              "      <td>0.540263</td>\n",
              "    </tr>\n",
              "    <tr>\n",
              "      <th>p-value</th>\n",
              "      <td>0.000000</td>\n",
              "    </tr>\n",
              "  </tbody>\n",
              "</table>\n",
              "</div>"
            ],
            "text/plain": [
              "              resultat_test\n",
              "pearson_coef       0.540263\n",
              "p-value            0.000000"
            ]
          },
          "metadata": {
            "tags": []
          },
          "execution_count": 12
        }
      ]
    },
    {
      "cell_type": "code",
      "metadata": {
        "colab": {
          "base_uri": "https://localhost:8080/",
          "height": 477
        },
        "id": "aw8W7FFI5Piv",
        "outputId": "ebac8ef6-7f8f-40b6-d4b1-5fd7eea80d13"
      },
      "source": [
        "# Refaisons les étapes précédentes en enlevants les valeurs extrêmes\r\n",
        "stats_bis = stats.loc[(stats['nb_views']<3000) & (stats['nb_transactions']<200)]\r\n",
        "sns.relplot(x='nb_views',y='nb_transactions',kind='line',data=stats_bis);\r\n",
        "from scipy.stats import pearsonr\r\n",
        "pd.DataFrame(pearsonr(stats_bis['nb_views'], stats_bis['nb_transactions']), index=['pearson_coef','p-value'], columns = ['resultat_test'])\r\n",
        "# Le coefficient de pearson a baissé, la relation entre les variables est moins forte"
      ],
      "execution_count": null,
      "outputs": [
        {
          "output_type": "execute_result",
          "data": {
            "text/html": [
              "<div>\n",
              "<style scoped>\n",
              "    .dataframe tbody tr th:only-of-type {\n",
              "        vertical-align: middle;\n",
              "    }\n",
              "\n",
              "    .dataframe tbody tr th {\n",
              "        vertical-align: top;\n",
              "    }\n",
              "\n",
              "    .dataframe thead th {\n",
              "        text-align: right;\n",
              "    }\n",
              "</style>\n",
              "<table border=\"1\" class=\"dataframe\">\n",
              "  <thead>\n",
              "    <tr style=\"text-align: right;\">\n",
              "      <th></th>\n",
              "      <th>resultat_test</th>\n",
              "    </tr>\n",
              "  </thead>\n",
              "  <tbody>\n",
              "    <tr>\n",
              "      <th>pearson_coef</th>\n",
              "      <td>0.651187</td>\n",
              "    </tr>\n",
              "    <tr>\n",
              "      <th>p-value</th>\n",
              "      <td>0.000000</td>\n",
              "    </tr>\n",
              "  </tbody>\n",
              "</table>\n",
              "</div>"
            ],
            "text/plain": [
              "              resultat_test\n",
              "pearson_coef       0.651187\n",
              "p-value            0.000000"
            ]
          },
          "metadata": {
            "tags": []
          },
          "execution_count": 15
        },
        {
          "output_type": "display_data",
          "data": {
            "image/png": "[encoded data removed]",
            "text/plain": [
              "<Figure size 360x360 with 1 Axes>"
            ]
          },
          "metadata": {
            "tags": [],
            "needs_background": "light"
          }
        }
      ]
    },
    {
      "cell_type": "code",
      "metadata": {
        "colab": {
          "base_uri": "https://localhost:8080/",
          "height": 477
        },
        "id": "SqGYVayR5mgH",
        "outputId": "b7c6b8fe-a680-402a-b21f-c96fa74d75a6"
      },
      "source": [
        "items_bis = items.loc[(items['nb_views']<2000) & (items['nb_transactions']<60)]\r\n",
        "sns.relplot(x='nb_views',y='nb_transactions',kind='line',data=items_bis);\r\n",
        "from scipy.stats import pearsonr\r\n",
        "pd.DataFrame(pearsonr(items_bis['nb_views'], items_bis['nb_transactions']), index=['pearson_coef','p-value'], columns = ['resultat_test'])\r\n",
        "# Le coefficient de pearson a légèrement augmenté, la relation entre les deux variables semble légèrement plus forte que prévu."
      ],
      "execution_count": null,
      "outputs": [
        {
          "output_type": "execute_result",
          "data": {
            "text/html": [
              "<div>\n",
              "<style scoped>\n",
              "    .dataframe tbody tr th:only-of-type {\n",
              "        vertical-align: middle;\n",
              "    }\n",
              "\n",
              "    .dataframe tbody tr th {\n",
              "        vertical-align: top;\n",
              "    }\n",
              "\n",
              "    .dataframe thead th {\n",
              "        text-align: right;\n",
              "    }\n",
              "</style>\n",
              "<table border=\"1\" class=\"dataframe\">\n",
              "  <thead>\n",
              "    <tr style=\"text-align: right;\">\n",
              "      <th></th>\n",
              "      <th>resultat_test</th>\n",
              "    </tr>\n",
              "  </thead>\n",
              "  <tbody>\n",
              "    <tr>\n",
              "      <th>pearson_coef</th>\n",
              "      <td>0.5764</td>\n",
              "    </tr>\n",
              "    <tr>\n",
              "      <th>p-value</th>\n",
              "      <td>0.0000</td>\n",
              "    </tr>\n",
              "  </tbody>\n",
              "</table>\n",
              "</div>"
            ],
            "text/plain": [
              "              resultat_test\n",
              "pearson_coef         0.5764\n",
              "p-value              0.0000"
            ]
          },
          "metadata": {
            "tags": []
          },
          "execution_count": 16
        },
        {
          "output_type": "display_data",
          "data": {
            "image/png": "[encoded data removed]",
            "text/plain": [
              "<Figure size 360x360 with 1 Axes>"
            ]
          },
          "metadata": {
            "tags": [],
            "needs_background": "light"
          }
        }
      ]
    },
    {
      "cell_type": "code",
      "metadata": {
        "id": "Q1FWbYzNO3Ml"
      },
      "source": [
        "# Prochaine étape : faire un clustering des consommateurs ayant réalisé une transaction afin d'identifier les 'gros consommateurs', 'les moyens' et 'les petits'\r\n"
      ],
      "execution_count": null,
      "outputs": []
    },
    {
      "cell_type": "code",
      "metadata": {
        "id": "lF0bkgusH55g",
        "colab": {
          "base_uri": "https://localhost:8080/",
          "height": 442
        },
        "outputId": "3deddd9d-cdf4-4d58-e83e-fa0c8f0312fa"
      },
      "source": [
        "### PARTIE OCEANE\r\n",
        "%matplotlib inline\r\n",
        "import matplotlib.pyplot as plt\r\n",
        "import numpy as np\r\n",
        "import pandas as pd\r\n",
        "import seaborn as sns\r\n",
        "\r\n",
        "df=pd.read_csv('/content/drive/MyDrive/events.csv')\r\n",
        "\r\n",
        "from datetime import datetime\r\n",
        "\r\n",
        "df['date']=df['timestamp'].apply(lambda x : datetime.fromtimestamp(x/1000))\r\n",
        "\r\n",
        "# Grâce aux attributs de datetime on peut isoler année, mois, jour et heure\r\n",
        "\r\n",
        "df['year']=pd.to_datetime(df.date).dt.year\r\n",
        "df['month']=pd.to_datetime(df.date).dt.month\r\n",
        "df['day']=pd.to_datetime(df.date).dt.day\r\n",
        "df['hour']=pd.to_datetime(df.date).dt.hour\r\n",
        "df['weekday']=pd.to_datetime(df.date).dt.weekday\r\n",
        "df['minutes']=pd.to_datetime(df.date).dt.minute\r\n",
        "df['secondes']=pd.to_datetime(df.date).dt.second\r\n",
        "\r\n",
        "# On va avoir une date avec jour-mois-année\r\n",
        "\r\n",
        "df['date']=df[['day','month','year']].sort_values(by=['day','month','year']).astype(str).agg('-'.join, axis=1)"
      ],
      "execution_count": null,
      "outputs": [
        {
          "output_type": "error",
          "ename": "FileNotFoundError",
          "evalue": "ignored",
          "traceback": [
            "\u001b[0;31m---------------------------------------------------------------------------\u001b[0m",
            "\u001b[0;31mFileNotFoundError\u001b[0m                         Traceback (most recent call last)",
            "\u001b[0;32m<ipython-input-1-1d4d6e4a6ffe>\u001b[0m in \u001b[0;36m<module>\u001b[0;34m()\u001b[0m\n\u001b[1;32m      6\u001b[0m \u001b[0;32mimport\u001b[0m \u001b[0mseaborn\u001b[0m \u001b[0;32mas\u001b[0m \u001b[0msns\u001b[0m\u001b[0;34m\u001b[0m\u001b[0;34m\u001b[0m\u001b[0m\n\u001b[1;32m      7\u001b[0m \u001b[0;34m\u001b[0m\u001b[0m\n\u001b[0;32m----> 8\u001b[0;31m \u001b[0mdf\u001b[0m\u001b[0;34m=\u001b[0m\u001b[0mpd\u001b[0m\u001b[0;34m.\u001b[0m\u001b[0mread_csv\u001b[0m\u001b[0;34m(\u001b[0m\u001b[0;34m'/content/drive/MyDrive/events.csv'\u001b[0m\u001b[0;34m)\u001b[0m\u001b[0;34m\u001b[0m\u001b[0;34m\u001b[0m\u001b[0m\n\u001b[0m\u001b[1;32m      9\u001b[0m \u001b[0;34m\u001b[0m\u001b[0m\n\u001b[1;32m     10\u001b[0m \u001b[0;32mfrom\u001b[0m \u001b[0mdatetime\u001b[0m \u001b[0;32mimport\u001b[0m \u001b[0mdatetime\u001b[0m\u001b[0;34m\u001b[0m\u001b[0;34m\u001b[0m\u001b[0m\n",
            "\u001b[0;32m/usr/local/lib/python3.6/dist-packages/pandas/io/parsers.py\u001b[0m in \u001b[0;36mread_csv\u001b[0;34m(filepath_or_buffer, sep, delimiter, header, names, index_col, usecols, squeeze, prefix, mangle_dupe_cols, dtype, engine, converters, true_values, false_values, skipinitialspace, skiprows, skipfooter, nrows, na_values, keep_default_na, na_filter, verbose, skip_blank_lines, parse_dates, infer_datetime_format, keep_date_col, date_parser, dayfirst, cache_dates, iterator, chunksize, compression, thousands, decimal, lineterminator, quotechar, quoting, doublequote, escapechar, comment, encoding, dialect, error_bad_lines, warn_bad_lines, delim_whitespace, low_memory, memory_map, float_precision)\u001b[0m\n\u001b[1;32m    686\u001b[0m     )\n\u001b[1;32m    687\u001b[0m \u001b[0;34m\u001b[0m\u001b[0m\n\u001b[0;32m--> 688\u001b[0;31m     \u001b[0;32mreturn\u001b[0m \u001b[0m_read\u001b[0m\u001b[0;34m(\u001b[0m\u001b[0mfilepath_or_buffer\u001b[0m\u001b[0;34m,\u001b[0m \u001b[0mkwds\u001b[0m\u001b[0;34m)\u001b[0m\u001b[0;34m\u001b[0m\u001b[0;34m\u001b[0m\u001b[0m\n\u001b[0m\u001b[1;32m    689\u001b[0m \u001b[0;34m\u001b[0m\u001b[0m\n\u001b[1;32m    690\u001b[0m \u001b[0;34m\u001b[0m\u001b[0m\n",
            "\u001b[0;32m/usr/local/lib/python3.6/dist-packages/pandas/io/parsers.py\u001b[0m in \u001b[0;36m_read\u001b[0;34m(filepath_or_buffer, kwds)\u001b[0m\n\u001b[1;32m    452\u001b[0m \u001b[0;34m\u001b[0m\u001b[0m\n\u001b[1;32m    453\u001b[0m     \u001b[0;31m# Create the parser.\u001b[0m\u001b[0;34m\u001b[0m\u001b[0;34m\u001b[0m\u001b[0;34m\u001b[0m\u001b[0m\n\u001b[0;32m--> 454\u001b[0;31m     \u001b[0mparser\u001b[0m \u001b[0;34m=\u001b[0m \u001b[0mTextFileReader\u001b[0m\u001b[0;34m(\u001b[0m\u001b[0mfp_or_buf\u001b[0m\u001b[0;34m,\u001b[0m \u001b[0;34m**\u001b[0m\u001b[0mkwds\u001b[0m\u001b[0;34m)\u001b[0m\u001b[0;34m\u001b[0m\u001b[0;34m\u001b[0m\u001b[0m\n\u001b[0m\u001b[1;32m    455\u001b[0m \u001b[0;34m\u001b[0m\u001b[0m\n\u001b[1;32m    456\u001b[0m     \u001b[0;32mif\u001b[0m \u001b[0mchunksize\u001b[0m \u001b[0;32mor\u001b[0m \u001b[0miterator\u001b[0m\u001b[0;34m:\u001b[0m\u001b[0;34m\u001b[0m\u001b[0;34m\u001b[0m\u001b[0m\n",
            "\u001b[0;32m/usr/local/lib/python3.6/dist-packages/pandas/io/parsers.py\u001b[0m in \u001b[0;36m__init__\u001b[0;34m(self, f, engine, **kwds)\u001b[0m\n\u001b[1;32m    946\u001b[0m             \u001b[0mself\u001b[0m\u001b[0;34m.\u001b[0m\u001b[0moptions\u001b[0m\u001b[0;34m[\u001b[0m\u001b[0;34m\"has_index_names\"\u001b[0m\u001b[0;34m]\u001b[0m \u001b[0;34m=\u001b[0m \u001b[0mkwds\u001b[0m\u001b[0;34m[\u001b[0m\u001b[0;34m\"has_index_names\"\u001b[0m\u001b[0;34m]\u001b[0m\u001b[0;34m\u001b[0m\u001b[0;34m\u001b[0m\u001b[0m\n\u001b[1;32m    947\u001b[0m \u001b[0;34m\u001b[0m\u001b[0m\n\u001b[0;32m--> 948\u001b[0;31m         \u001b[0mself\u001b[0m\u001b[0;34m.\u001b[0m\u001b[0m_make_engine\u001b[0m\u001b[0;34m(\u001b[0m\u001b[0mself\u001b[0m\u001b[0;34m.\u001b[0m\u001b[0mengine\u001b[0m\u001b[0;34m)\u001b[0m\u001b[0;34m\u001b[0m\u001b[0;34m\u001b[0m\u001b[0m\n\u001b[0m\u001b[1;32m    949\u001b[0m \u001b[0;34m\u001b[0m\u001b[0m\n\u001b[1;32m    950\u001b[0m     \u001b[0;32mdef\u001b[0m \u001b[0mclose\u001b[0m\u001b[0;34m(\u001b[0m\u001b[0mself\u001b[0m\u001b[0;34m)\u001b[0m\u001b[0;34m:\u001b[0m\u001b[0;34m\u001b[0m\u001b[0;34m\u001b[0m\u001b[0m\n",
            "\u001b[0;32m/usr/local/lib/python3.6/dist-packages/pandas/io/parsers.py\u001b[0m in \u001b[0;36m_make_engine\u001b[0;34m(self, engine)\u001b[0m\n\u001b[1;32m   1178\u001b[0m     \u001b[0;32mdef\u001b[0m \u001b[0m_make_engine\u001b[0m\u001b[0;34m(\u001b[0m\u001b[0mself\u001b[0m\u001b[0;34m,\u001b[0m \u001b[0mengine\u001b[0m\u001b[0;34m=\u001b[0m\u001b[0;34m\"c\"\u001b[0m\u001b[0;34m)\u001b[0m\u001b[0;34m:\u001b[0m\u001b[0;34m\u001b[0m\u001b[0;34m\u001b[0m\u001b[0m\n\u001b[1;32m   1179\u001b[0m         \u001b[0;32mif\u001b[0m \u001b[0mengine\u001b[0m \u001b[0;34m==\u001b[0m \u001b[0;34m\"c\"\u001b[0m\u001b[0;34m:\u001b[0m\u001b[0;34m\u001b[0m\u001b[0;34m\u001b[0m\u001b[0m\n\u001b[0;32m-> 1180\u001b[0;31m             \u001b[0mself\u001b[0m\u001b[0;34m.\u001b[0m\u001b[0m_engine\u001b[0m \u001b[0;34m=\u001b[0m \u001b[0mCParserWrapper\u001b[0m\u001b[0;34m(\u001b[0m\u001b[0mself\u001b[0m\u001b[0;34m.\u001b[0m\u001b[0mf\u001b[0m\u001b[0;34m,\u001b[0m \u001b[0;34m**\u001b[0m\u001b[0mself\u001b[0m\u001b[0;34m.\u001b[0m\u001b[0moptions\u001b[0m\u001b[0;34m)\u001b[0m\u001b[0;34m\u001b[0m\u001b[0;34m\u001b[0m\u001b[0m\n\u001b[0m\u001b[1;32m   1181\u001b[0m         \u001b[0;32melse\u001b[0m\u001b[0;34m:\u001b[0m\u001b[0;34m\u001b[0m\u001b[0;34m\u001b[0m\u001b[0m\n\u001b[1;32m   1182\u001b[0m             \u001b[0;32mif\u001b[0m \u001b[0mengine\u001b[0m \u001b[0;34m==\u001b[0m \u001b[0;34m\"python\"\u001b[0m\u001b[0;34m:\u001b[0m\u001b[0;34m\u001b[0m\u001b[0;34m\u001b[0m\u001b[0m\n",
            "\u001b[0;32m/usr/local/lib/python3.6/dist-packages/pandas/io/parsers.py\u001b[0m in \u001b[0;36m__init__\u001b[0;34m(self, src, **kwds)\u001b[0m\n\u001b[1;32m   2008\u001b[0m         \u001b[0mkwds\u001b[0m\u001b[0;34m[\u001b[0m\u001b[0;34m\"usecols\"\u001b[0m\u001b[0;34m]\u001b[0m \u001b[0;34m=\u001b[0m \u001b[0mself\u001b[0m\u001b[0;34m.\u001b[0m\u001b[0musecols\u001b[0m\u001b[0;34m\u001b[0m\u001b[0;34m\u001b[0m\u001b[0m\n\u001b[1;32m   2009\u001b[0m \u001b[0;34m\u001b[0m\u001b[0m\n\u001b[0;32m-> 2010\u001b[0;31m         \u001b[0mself\u001b[0m\u001b[0;34m.\u001b[0m\u001b[0m_reader\u001b[0m \u001b[0;34m=\u001b[0m \u001b[0mparsers\u001b[0m\u001b[0;34m.\u001b[0m\u001b[0mTextReader\u001b[0m\u001b[0;34m(\u001b[0m\u001b[0msrc\u001b[0m\u001b[0;34m,\u001b[0m \u001b[0;34m**\u001b[0m\u001b[0mkwds\u001b[0m\u001b[0;34m)\u001b[0m\u001b[0;34m\u001b[0m\u001b[0;34m\u001b[0m\u001b[0m\n\u001b[0m\u001b[1;32m   2011\u001b[0m         \u001b[0mself\u001b[0m\u001b[0;34m.\u001b[0m\u001b[0munnamed_cols\u001b[0m \u001b[0;34m=\u001b[0m \u001b[0mself\u001b[0m\u001b[0;34m.\u001b[0m\u001b[0m_reader\u001b[0m\u001b[0;34m.\u001b[0m\u001b[0munnamed_cols\u001b[0m\u001b[0;34m\u001b[0m\u001b[0;34m\u001b[0m\u001b[0m\n\u001b[1;32m   2012\u001b[0m \u001b[0;34m\u001b[0m\u001b[0m\n",
            "\u001b[0;32mpandas/_libs/parsers.pyx\u001b[0m in \u001b[0;36mpandas._libs.parsers.TextReader.__cinit__\u001b[0;34m()\u001b[0m\n",
            "\u001b[0;32mpandas/_libs/parsers.pyx\u001b[0m in \u001b[0;36mpandas._libs.parsers.TextReader._setup_parser_source\u001b[0;34m()\u001b[0m\n",
            "\u001b[0;31mFileNotFoundError\u001b[0m: [Errno 2] No such file or directory: '/content/drive/MyDrive/events.csv'"
          ]
        }
      ]
    },
    {
      "cell_type": "code",
      "metadata": {
        "colab": {
          "base_uri": "https://localhost:8080/",
          "height": 358
        },
        "id": "xdUYltf_7qrx",
        "outputId": "ac9ec2bb-9e9a-40f3-9814-4c4e93aa845c"
      },
      "source": [
        "#Proportion par event\r\n",
        "\r\n",
        "sns.countplot(x='event', data=df);\r\n",
        "df.event.value_counts()"
      ],
      "execution_count": null,
      "outputs": [
        {
          "output_type": "execute_result",
          "data": {
            "text/plain": [
              "view           2664312\n",
              "addtocart        69332\n",
              "transaction      22457\n",
              "Name: event, dtype: int64"
            ]
          },
          "metadata": {
            "tags": []
          },
          "execution_count": 11
        },
        {
          "output_type": "display_data",
          "data": {
            "image/png": "[encoded data removed]",
            "text/plain": [
              "<Figure size 432x288 with 1 Axes>"
            ]
          },
          "metadata": {
            "tags": [],
            "needs_background": "light"
          }
        }
      ]
    },
    {
      "cell_type": "code",
      "metadata": {
        "id": "viuxDlbGVoRF",
        "colab": {
          "base_uri": "https://localhost:8080/",
          "height": 411
        },
        "outputId": "c2115e7d-7bd3-4c96-d800-2bfb747abb35"
      },
      "source": [
        "#Proportion d'event en % graph circuliaire\r\n",
        "\r\n",
        "plt.figure(figsize=(7,7))\r\n",
        "\r\n",
        "plt.pie(df.event.value_counts(),\r\n",
        "        labels=['view', 'addtocart','transaction'],\r\n",
        "        colors=['steelblue','orange','green'],\r\n",
        "        explode = [0.1, 0, 0],\r\n",
        "        autopct=lambda x : str(round(x, 2)) + '%',\r\n",
        "        pctdistance=0.7, labeldistance=1.3,\r\n",
        "        shadow=True)\r\n",
        "plt.legend();"
      ],
      "execution_count": null,
      "outputs": [
        {
          "output_type": "display_data",
          "data": {
            "image/png": "[encoded data removed]",
            "text/plain": [
              "<Figure size 504x504 with 1 Axes>"
            ]
          },
          "metadata": {
            "tags": []
          }
        }
      ]
    },
    {
      "cell_type": "code",
      "metadata": {
        "colab": {
          "base_uri": "https://localhost:8080/",
          "height": 280
        },
        "id": "CZVgLDSz92pW",
        "outputId": "f4e8dd1c-1a3a-4878-f36a-041c0bf433e3"
      },
      "source": [
        "# Le nombre de transactions par mois\r\n",
        "\r\n",
        "transac=df.loc[df['event']=='transaction']\r\n",
        "\r\n",
        "sns.countplot(x='month', data=transac);"
      ],
      "execution_count": null,
      "outputs": [
        {
          "output_type": "display_data",
          "data": {
            "image/png": "[encoded data removed]",
            "text/plain": [
              "<Figure size 432x288 with 1 Axes>"
            ]
          },
          "metadata": {
            "tags": [],
            "needs_background": "light"
          }
        }
      ]
    },
    {
      "cell_type": "code",
      "metadata": {
        "colab": {
          "base_uri": "https://localhost:8080/",
          "height": 513
        },
        "id": "JwGKeQ2P93GN",
        "outputId": "8f0a91a1-cc62-45c3-aac9-b68ebc4c0264"
      },
      "source": [
        "fig=plt.figure(figsize=(14,8))\r\n",
        "\r\n",
        "ax1 = fig.add_subplot(121) \r\n",
        "ax1=sns.countplot(x='day', data=transac) \r\n",
        "plt.title('Nombre de transactions par jours');\r\n",
        "\r\n",
        "ax2 = fig.add_subplot(122) \r\n",
        "ax2=sns.countplot(x='hour', data=transac) \r\n",
        "plt.title('Nombre de transactions par heures');"
      ],
      "execution_count": null,
      "outputs": [
        {
          "output_type": "display_data",
          "data": {
            "image/png": "[encoded data removed]",
            "text/plain": [
              "<Figure size 1008x576 with 2 Axes>"
            ]
          },
          "metadata": {
            "tags": [],
            "needs_background": "light"
          }
        }
      ]
    },
    {
      "cell_type": "code",
      "metadata": {
        "colab": {
          "base_uri": "https://localhost:8080/",
          "height": 295
        },
        "id": "8vS9FhT893OM",
        "outputId": "dab61f97-d978-488a-fd19-b72d40725dd6"
      },
      "source": [
        "plt.figure(figsize=(6,4))\r\n",
        "sns.countplot(x='weekday', data=transac)\r\n",
        "plt.xticks(np.arange(7),['Lundi', 'Mardi', 'Mercredi', 'Jeudi', 'Vendredi', 'Samedi', 'Dimanche'])\r\n",
        "plt.title('Nombre de transactions par jours de la semaine');\r\n",
        "\r\n",
        "# On remarque que les transactions sont plus en fin de semaine et début de semaine (Dimanche)"
      ],
      "execution_count": null,
      "outputs": [
        {
          "output_type": "display_data",
          "data": {
            "image/png": "[encoded data removed]",
            "text/plain": [
              "<Figure size 432x288 with 1 Axes>"
            ]
          },
          "metadata": {
            "tags": [],
            "needs_background": "light"
          }
        }
      ]
    },
    {
      "cell_type": "code",
      "metadata": {
        "colab": {
          "base_uri": "https://localhost:8080/",
          "height": 369
        },
        "id": "USh-Q6Nx93So",
        "outputId": "0a3fd3b6-c3b9-4839-99fc-f4794a7537f7"
      },
      "source": [
        "# On va faire un histogramme et regrouper les heures \r\n",
        "\r\n",
        "sns.displot(transac.hour, bins=24, kde=True, rug=True, color='red')\r\n",
        "plt.xticks([0, 6, 12, 18, 24],['Minuit', '6h', '12h', '18h', 'Minuit']);"
      ],
      "execution_count": null,
      "outputs": [
        {
          "output_type": "display_data",
          "data": {
            "image/png": "[encoded data removed]",
            "text/plain": [
              "<Figure size 360x360 with 1 Axes>"
            ]
          },
          "metadata": {
            "tags": [],
            "needs_background": "light"
          }
        }
      ]
    },
    {
      "cell_type": "code",
      "metadata": {
        "id": "cFt3oQIPngy8"
      },
      "source": [
        "#suivi des visiteurs et des items \r\n",
        "\r\n",
        "# Nombre de views par visitorid, par item \r\n",
        "\r\n",
        "visit_view = df.loc[df['event'] == 'view'].groupby(by=['visitorid','itemid'], as_index=False).agg({'event':'count'})\r\n",
        "\r\n",
        "visit_view = visit_view.rename(columns={\"event\": \"nb_view\"})\r\n",
        "\r\n",
        "visit_view.sort_values('nb_view', ascending=False)"
      ],
      "execution_count": null,
      "outputs": []
    },
    {
      "cell_type": "code",
      "metadata": {
        "id": "UMJWswBXnnpo"
      },
      "source": [
        "# Nombre de paniers par visitorid, par item \r\n",
        "\r\n",
        "visit_add = df.loc[df['event'] == 'addtocart'].groupby(by=['visitorid','itemid'], as_index=False).agg({'event':'count'})\r\n",
        "\r\n",
        "visit_add = visit_add.rename(columns={\"event\": \"nb_addtocart\"})\r\n",
        "\r\n",
        "visit_add.sort_values('nb_addtocart', ascending=False)"
      ],
      "execution_count": null,
      "outputs": []
    },
    {
      "cell_type": "code",
      "metadata": {
        "id": "JKrXoNBGnrHg"
      },
      "source": [
        "# Nombre de transacs par visitorid, par item \r\n",
        "\r\n",
        "visit_transac = df.loc[df['event'] == 'transaction'].groupby(by=['visitorid','itemid'], as_index=False).agg({'event':'count'})\r\n",
        "\r\n",
        "visit_transac = visit_transac.rename(columns={\"event\": \"nb_transac\"})\r\n",
        "\r\n",
        "visit_transac.sort_values('nb_transac', ascending=False)"
      ],
      "execution_count": null,
      "outputs": []
    },
    {
      "cell_type": "code",
      "metadata": {
        "id": "cexztH3lnuaG"
      },
      "source": [
        "# Fusion des bases\r\n",
        "\r\n",
        "visit_item=pd.merge(visit_view, visit_add, how='outer')\r\n",
        "\r\n",
        "visit_item=pd.merge(visit_item, visit_transac, how='outer')"
      ],
      "execution_count": null,
      "outputs": []
    },
    {
      "cell_type": "code",
      "metadata": {
        "id": "U5bWgNqMoYJo",
        "colab": {
          "base_uri": "https://localhost:8080/",
          "height": 214
        },
        "outputId": "2eed23b7-cdd3-4c65-b9c7-6bccedc906ef"
      },
      "source": [
        "visit_item.sort_values(['nb_transac','nb_addtocart', 'nb_view','visitorid', 'itemid'], ascending=[False, False, False, False, False])\r\n",
        "\r\n",
        "verif=df.loc[(df['visitorid']==152963) & (df['itemid']==119736)].sort_values('date')\r\n",
        "verif"
      ],
      "execution_count": null,
      "outputs": [
        {
          "output_type": "error",
          "ename": "NameError",
          "evalue": "ignored",
          "traceback": [
            "\u001b[0;31m---------------------------------------------------------------------------\u001b[0m",
            "\u001b[0;31mNameError\u001b[0m                                 Traceback (most recent call last)",
            "\u001b[0;32m<ipython-input-6-c959e886d633>\u001b[0m in \u001b[0;36m<module>\u001b[0;34m()\u001b[0m\n\u001b[0;32m----> 1\u001b[0;31m \u001b[0mvisit_item\u001b[0m\u001b[0;34m.\u001b[0m\u001b[0msort_values\u001b[0m\u001b[0;34m(\u001b[0m\u001b[0;34m[\u001b[0m\u001b[0;34m'nb_transac'\u001b[0m\u001b[0;34m,\u001b[0m\u001b[0;34m'nb_addtocart'\u001b[0m\u001b[0;34m,\u001b[0m \u001b[0;34m'nb_view'\u001b[0m\u001b[0;34m,\u001b[0m\u001b[0;34m'visitorid'\u001b[0m\u001b[0;34m,\u001b[0m \u001b[0;34m'itemid'\u001b[0m\u001b[0;34m]\u001b[0m\u001b[0;34m,\u001b[0m \u001b[0mascending\u001b[0m\u001b[0;34m=\u001b[0m\u001b[0;34m[\u001b[0m\u001b[0;32mFalse\u001b[0m\u001b[0;34m,\u001b[0m \u001b[0;32mFalse\u001b[0m\u001b[0;34m,\u001b[0m \u001b[0;32mFalse\u001b[0m\u001b[0;34m,\u001b[0m \u001b[0;32mFalse\u001b[0m\u001b[0;34m,\u001b[0m \u001b[0;32mFalse\u001b[0m\u001b[0;34m]\u001b[0m\u001b[0;34m)\u001b[0m\u001b[0;34m\u001b[0m\u001b[0;34m\u001b[0m\u001b[0m\n\u001b[0m\u001b[1;32m      2\u001b[0m \u001b[0;34m\u001b[0m\u001b[0m\n\u001b[1;32m      3\u001b[0m \u001b[0mverif\u001b[0m\u001b[0;34m=\u001b[0m\u001b[0mdf\u001b[0m\u001b[0;34m.\u001b[0m\u001b[0mloc\u001b[0m\u001b[0;34m[\u001b[0m\u001b[0;34m(\u001b[0m\u001b[0mdf\u001b[0m\u001b[0;34m[\u001b[0m\u001b[0;34m'visitorid'\u001b[0m\u001b[0;34m]\u001b[0m\u001b[0;34m==\u001b[0m\u001b[0;36m152963\u001b[0m\u001b[0;34m)\u001b[0m \u001b[0;34m&\u001b[0m \u001b[0;34m(\u001b[0m\u001b[0mdf\u001b[0m\u001b[0;34m[\u001b[0m\u001b[0;34m'itemid'\u001b[0m\u001b[0;34m]\u001b[0m\u001b[0;34m==\u001b[0m\u001b[0;36m119736\u001b[0m\u001b[0;34m)\u001b[0m\u001b[0;34m]\u001b[0m\u001b[0;34m.\u001b[0m\u001b[0msort_values\u001b[0m\u001b[0;34m(\u001b[0m\u001b[0;34m'date'\u001b[0m\u001b[0;34m)\u001b[0m\u001b[0;34m\u001b[0m\u001b[0;34m\u001b[0m\u001b[0m\n\u001b[1;32m      4\u001b[0m \u001b[0mverif\u001b[0m\u001b[0;34m\u001b[0m\u001b[0;34m\u001b[0m\u001b[0m\n",
            "\u001b[0;31mNameError\u001b[0m: name 'visit_item' is not defined"
          ]
        }
      ]
    },
    {
      "cell_type": "code",
      "metadata": {
        "id": "w3JpWNzFbk5Y"
      },
      "source": [
        "# Nombre de views par visitorid, par item \r\n",
        "\r\n",
        "visit_view = df.loc[df['event'] == 'view'].groupby(by=['visitorid','itemid'], as_index=False).agg({'event':'count'})\r\n",
        "\r\n",
        "visit_view = visit_view.rename(columns={\"event\": \"nb_view\"})\r\n",
        "\r\n",
        "visit_view.sort_values('nb_view', ascending=False)\r\n",
        "\r\n",
        "# Nombre de paniers par visitorid, par item \r\n",
        "\r\n",
        "visit_add = df.loc[df['event'] == 'addtocart'].groupby(by=['visitorid','itemid'], as_index=False).agg({'event':'count'})\r\n",
        "\r\n",
        "visit_add = visit_add.rename(columns={\"event\": \"nb_addtocart\"})\r\n",
        "\r\n",
        "visit_add.sort_values('nb_addtocart', ascending=False)\r\n",
        "\r\n",
        "# Nombre de transacs par visitorid, par item \r\n",
        "\r\n",
        "visit_transac = df.loc[df['event'] == 'transaction'].groupby(by=['visitorid','itemid'], as_index=False).agg({'event':'count'})\r\n",
        "\r\n",
        "visit_transac = visit_transac.rename(columns={\"event\": \"nb_transac\"})\r\n",
        "\r\n",
        "visit_transac.sort_values('nb_transac', ascending=False)\r\n",
        "\r\n",
        "\r\n",
        "visit_item=pd.merge(visit_view, visit_add, how='outer')\r\n",
        "\r\n",
        "visit_item=pd.merge(visit_item, visit_transac, how='outer')\r\n",
        "\r\n",
        "visit_item.sort_values(['nb_transac','nb_addtocart', 'nb_view','visitorid', 'itemid'], ascending=[False, False, False, False, False])\r\n",
        "\r\n",
        "visit_item.sort_values(by='nb_transac', ascending=False)\r\n",
        "\r\n",
        "# Visiteur qui a acheté sans panier == peut être un acheteur compulsif ? "
      ],
      "execution_count": null,
      "outputs": []
    },
    {
      "cell_type": "code",
      "metadata": {
        "id": "YbS8GV3vb-C6"
      },
      "source": [
        "# On va faire un groupement des visitors qui achètent le plus \r\n",
        "\r\n",
        "visitor_transaction=visit_item.groupby(by='visitorid').agg({'nb_transac':'count', 'visitorid':'count'}).rename(columns={'visitorid':'nb_de_visit'})\r\n",
        "\r\n",
        "plt.figure(figsize=(16,8))\r\n",
        "plt.scatter(x='nb_de_visit', y='nb_transac', data=visitor_transaction)\r\n",
        "plt.xlabel('Pour chaque visiteur unique, le nb de visites effectués')\r\n",
        "plt.ylabel('Le nombre de transactions')\r\n",
        "plt.title('Nombre visites par transactions');\r\n",
        "plt.plot(view_by_visitor, pred_transac, color=\"black\");\r\n",
        "\r\n",
        "vérif=visitor_transaction.loc[(visitor_transaction['nb_transac']==visitor_transaction['nb_transac'].max())]\r\n",
        "print(vérif)"
      ],
      "execution_count": null,
      "outputs": []
    },
    {
      "cell_type": "code",
      "metadata": {
        "id": "bpmttsMmb_q6"
      },
      "source": [
        "# Test de Pearson ? \r\n",
        "\r\n",
        "from scipy.stats import pearsonr\r\n",
        "\r\n",
        "pd.DataFrame(pearsonr(visitor_transaction['nb_de_visit'],visitor_transaction['nb_transac']), index = ['pearson_coeff','p-value'], columns = ['resultat_test'])\r\n",
        "\r\n",
        "\r\n",
        "#la p-value < 5%, le coefficient est proche de 1, il y a une corrélation entre les deux variables.\r\n",
        "#Lorsque le nombre de view augmentent les transactions augmentent aussi.\r\n",
        "\r\n",
        "#on va se tourner vers une modélisation de regression linéaire (prevoir le nb de transactions en fonction du nb de view)"
      ],
      "execution_count": null,
      "outputs": []
    },
    {
      "cell_type": "code",
      "metadata": {
        "id": "T5zk0zn1cC_a"
      },
      "source": [
        "#tester la regression\r\n",
        "from sklearn.linear_model import LinearRegression\r\n",
        "from sklearn.model_selection import cross_val_predict, cross_validate\r\n",
        "\r\n",
        "nb_transactions=visitor_transaction['nb_transac']\r\n",
        "view_by_visitor=visitor_transaction[['nb_de_visit']]\r\n",
        "\r\n",
        "slr=LinearRegression()\r\n",
        "\r\n",
        "slr.fit(view_by_visitor, nb_transactions)\r\n",
        "\r\n",
        "cross_validate(slr, view_by_visitor, nb_transactions, return_train_score=True, cv=4)['test_score'].mean()\r\n",
        "\r\n",
        "pred_transac = slr.predict(view_by_visitor)\r\n",
        "residus = pred_transac - nb_transactions\r\n"
      ],
      "execution_count": null,
      "outputs": []
    },
    {
      "cell_type": "code",
      "metadata": {
        "id": "dPyRmd14HJU4"
      },
      "source": [
        "#melissa\r\n",
        "#visualisation d'un funnel"
      ],
      "execution_count": null,
      "outputs": []
    },
    {
      "cell_type": "code",
      "metadata": {
        "id": "Sb2_gCjhHLIx"
      },
      "source": [
        "def plot_stacked_funnel(event, col=None, from_date=None, to_date=None, step_interval=0):\r\n",
        "    \"\"\"\r\n",
        "    Function used for producing a (stacked) funnel plot.\r\n",
        "    \"\"\"\r\n",
        "    # create list to append each trace to\r\n",
        "    # this will be passed to \"go.Figure\" at the end\r\n",
        "    df = []\r\n",
        "\r\n",
        "    # if col is provided, create a funnel_df for each entry in the \"col\"\r\n",
        "    if col:\r\n",
        "        # generate dict of funnel dataframes\r\n",
        "        dict_ = group_funnel_dfs(events, col)\r\n",
        "        title = 'Funnel plot per {}'.format(col)\r\n",
        "    else:\r\n",
        "        funnel_df = create_funnel_df(events, from_date=from_date, to_date=to_date, step_interval=step_interval)\r\n",
        "        dict_ = {'Total': funnel_df}\r\n",
        "        title = 'Funnel plot'\r\n",
        "\r\n",
        "    for t in dict_.keys():\r\n",
        "        trace = go.Funnel(\r\n",
        "            name=t,\r\n",
        "            y=dict_[t].step.values,\r\n",
        "            x=dict_[t].val.values,\r\n",
        "            textinfo=\"value+percent previous\"\r\n",
        "        )\r\n",
        "        data.append(trace)\r\n",
        "\r\n",
        "    layout = go.Layout(margin={\"l\": 180, \"r\": 0, \"t\": 30, \"b\": 0, \"pad\": 0},\r\n",
        "                       funnelmode=\"stack\",\r\n",
        "                       showlegend=True,\r\n",
        "                       hovermode='closest',\r\n",
        "                       title='Funnel plot per {}'.format(col),\r\n",
        "                       legend=dict(orientation=\"v\",\r\n",
        "                                   bgcolor='#E2E2E2',\r\n",
        "                                   xanchor='left',\r\n",
        "                                   font=dict(\r\n",
        "                                       size=12)\r\n",
        "                                   )\r\n",
        "                       )\r\n",
        "\r\n",
        "    return go.Figure(data, layout)"
      ],
      "execution_count": null,
      "outputs": []
    }
  ]
}